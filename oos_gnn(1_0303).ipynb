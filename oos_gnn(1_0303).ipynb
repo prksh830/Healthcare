{
  "cells": [
    {
      "cell_type": "markdown",
      "metadata": {
        "id": "view-in-github",
        "colab_type": "text"
      },
      "source": [
        "<a href=\"https://colab.research.google.com/github/prksh830/Healthcare/blob/main/oos_gnn(1_0303).ipynb\" target=\"_parent\"><img src=\"https://colab.research.google.com/assets/colab-badge.svg\" alt=\"Open In Colab\"/></a>"
      ]
    },
    {
      "cell_type": "code",
      "source": [
        "from IPython import get_ipython\n",
        "from IPython.display import display\n",
        "# %%\n",
        "import pandas as pd\n",
        "import numpy as np\n",
        "import matplotlib.pyplot as plt\n",
        "import seaborn as sns\n",
        "import time\n",
        "from collections import Counter\n",
        "from sklearn.model_selection import train_test_split\n",
        "from sklearn.preprocessing import StandardScaler\n",
        "from sklearn.impute import SimpleImputer\n",
        "from sklearn.metrics import accuracy_score, confusion_matrix, roc_auc_score, roc_curve\n",
        "from sklearn.ensemble import RandomForestClassifier, GradientBoostingClassifier, VotingClassifier\n",
        "from sklearn.svm import SVC\n",
        "from sklearn.neighbors import KNeighborsClassifier\n",
        "from xgboost import XGBClassifier\n",
        "from imblearn.over_sampling import SMOTE"
      ],
      "metadata": {
        "id": "yMmtDqnkmDpD"
      },
      "execution_count": null,
      "outputs": []
    },
    {
      "cell_type": "code",
      "source": [
        "# Load dataset\n",
        "data = pd.read_csv('wsn-ds.csv')"
      ],
      "metadata": {
        "id": "_bRK6VCiuOwl"
      },
      "execution_count": null,
      "outputs": []
    },
    {
      "cell_type": "code",
      "source": [
        "# 🧾 Display total samples\n",
        "print(f\"Total samples in dataset: {df.shape[0]}\")\n",
        "print(\"\\nSample data:\\n\", df.head())"
      ],
      "metadata": {
        "colab": {
          "base_uri": "https://localhost:8080/"
        },
        "id": "-w1zd6L0mWIR",
        "outputId": "b2927d07-72dd-45f0-d1a4-8a3eb77780e5"
      },
      "execution_count": null,
      "outputs": [
        {
          "output_type": "stream",
          "name": "stdout",
          "text": [
            "Total samples in dataset: 374661\n",
            "\n",
            "Sample data:\n",
            "        id   Time   Is_CH   who CH   Dist_To_CH   ADV_S   ADV_R   JOIN_S  \\\n",
            "0  101000     50       1   101000      0.00000       1       0        0   \n",
            "1  101001     50       0   101044     75.32345       0       4        1   \n",
            "2  101002     50       0   101010     46.95453       0       4        1   \n",
            "3  101003     50       0   101044     64.85231       0       4        1   \n",
            "4  101004     50       0   101010      4.83341       0       4        1   \n",
            "\n",
            "    JOIN_R   SCH_S   SCH_R  Rank   DATA_S   DATA_R   Data_Sent_To_BS  \\\n",
            "0       25       1       0     0        0     1200                48   \n",
            "1        0       0       1     2       38        0                 0   \n",
            "2        0       0       1    19       41        0                 0   \n",
            "3        0       0       1    16       38        0                 0   \n",
            "4        0       0       1    25       41        0                 0   \n",
            "\n",
            "    dist_CH_To_BS   send_code   Consumed Energy Attack type  \n",
            "0       130.08535            0          2.46940      Normal  \n",
            "1         0.00000            4          0.06957      Normal  \n",
            "2         0.00000            3          0.06898      Normal  \n",
            "3         0.00000            4          0.06673      Normal  \n",
            "4         0.00000            3          0.06534      Normal  \n"
          ]
        }
      ]
    },
    {
      "cell_type": "code",
      "source": [
        "# ✅ Check unique attack types\n",
        "print(\"\\nUnique Attack Types:\\n\", df['Attack type'].value_counts())"
      ],
      "metadata": {
        "colab": {
          "base_uri": "https://localhost:8080/"
        },
        "id": "izH_tJ5DmbaI",
        "outputId": "b3cdc043-8c94-4458-c0b6-8124ce734305"
      },
      "execution_count": null,
      "outputs": [
        {
          "output_type": "stream",
          "name": "stdout",
          "text": [
            "\n",
            "Unique Attack Types:\n",
            " Attack type\n",
            "Normal       340066\n",
            "Grayhole      14596\n",
            "Blackhole     10049\n",
            "TDMA           6638\n",
            "Flooding       3312\n",
            "Name: count, dtype: int64\n"
          ]
        }
      ]
    },
    {
      "cell_type": "code",
      "source": [
        "# 🔢 Visualize class distribution before SMOTE\n",
        "attack_counts = df['Attack type'].value_counts()\n",
        "plt.figure(figsize=(10,6))\n",
        "sns.barplot(x=attack_counts.index, y=attack_counts.values, palette=\"viridis\")\n",
        "plt.title('Class Distribution Before SMOTE')\n",
        "plt.xlabel('Attack type')\n",
        "plt.ylabel('Number of Samples')\n",
        "plt.show()"
      ],
      "metadata": {
        "colab": {
          "base_uri": "https://localhost:8080/",
          "height": 610
        },
        "id": "94bdKD6iuloj",
        "outputId": "ae1dfe5a-6671-4ac5-91e1-bce55f8f2f39"
      },
      "execution_count": null,
      "outputs": [
        {
          "output_type": "stream",
          "name": "stderr",
          "text": [
            "<ipython-input-48-5ada88f30dc2>:4: FutureWarning: \n",
            "\n",
            "Passing `palette` without assigning `hue` is deprecated and will be removed in v0.14.0. Assign the `x` variable to `hue` and set `legend=False` for the same effect.\n",
            "\n",
            "  sns.barplot(x=attack_counts.index, y=attack_counts.values, palette=\"viridis\")\n"
          ]
        },
        {
          "output_type": "display_data",
          "data": {
            "text/plain": [
              "<Figure size 1000x600 with 1 Axes>"
            ],
            "image/png": "[encoded data removed]"
          },
          "metadata": {}
        }
      ]
    },
    {
      "cell_type": "code",
      "source": [
        "# 🧹 Preprocess dataset\n",
        "X = df.drop(['Attack type'], axis=1)\n",
        "y = df['Attack type']"
      ],
      "metadata": {
        "id": "IAyQEzq3mqvY"
      },
      "execution_count": null,
      "outputs": []
    },
    {
      "cell_type": "code",
      "source": [
        "# Prepare features and target\n",
        "X = data.drop('Attack type', axis=1)\n",
        "y = data['Attack type']"
      ],
      "metadata": {
        "id": "xGP1Z1VJu--b"
      },
      "execution_count": null,
      "outputs": []
    },
    {
      "cell_type": "code",
      "source": [
        "# Handle missing values\n",
        "imputer = SimpleImputer(strategy='mean')\n",
        "X = imputer.fit_transform(X)"
      ],
      "metadata": {
        "id": "EhIx4eo5vGB-"
      },
      "execution_count": null,
      "outputs": []
    },
    {
      "cell_type": "code",
      "source": [
        "# Feature scaling\n",
        "scaler = StandardScaler()\n",
        "X = scaler.fit_transform(X)"
      ],
      "metadata": {
        "id": "Lof_T324vIot"
      },
      "execution_count": null,
      "outputs": []
    },
    {
      "cell_type": "code",
      "source": [
        "# Split BEFORE SMOTE\n",
        "X_train_orig, X_test_orig, y_train_orig, y_test_orig = train_test_split(X, y, test_size=0.2, random_state=42)"
      ],
      "metadata": {
        "id": "pk6v-4SpvMTT"
      },
      "execution_count": null,
      "outputs": []
    },
    {
      "cell_type": "code",
      "source": [
        "# Confusion matrices before SMOTE using RandomForest\n",
        "rf_before = RandomForestClassifier(n_estimators=100, random_state=42)\n",
        "rf_before.fit(X_train_orig, y_train_orig)\n",
        "y_train_pred_orig = rf_before.predict(X_train_orig)\n",
        "y_test_pred_orig = rf_before.predict(X_test_orig)"
      ],
      "metadata": {
        "id": "QrdRl_AnvUbk"
      },
      "execution_count": null,
      "outputs": []
    },
    {
      "cell_type": "code",
      "source": [
        "print(\"\\nConfusion Matrix - Training (Before SMOTE):\")\n",
        "print(confusion_matrix(y_train_orig, y_train_pred_orig))"
      ],
      "metadata": {
        "colab": {
          "base_uri": "https://localhost:8080/"
        },
        "id": "p9H-E-nVvmv1",
        "outputId": "08663c8b-1887-4934-c7bb-8e8ef948df09"
      },
      "execution_count": null,
      "outputs": [
        {
          "output_type": "stream",
          "name": "stdout",
          "text": [
            "\n",
            "Confusion Matrix - Training (Before SMOTE):\n",
            "[[  8006      0      0      0      0]\n",
            " [     0   2681      0      0      0]\n",
            " [     0      0  11611      0      0]\n",
            " [     0      0      0 272101      0]\n",
            " [     0      0      0      2   5327]]\n"
          ]
        }
      ]
    },
    {
      "cell_type": "code",
      "source": [
        "print(\"\\nConfusion Matrix - Testing (Before SMOTE):\")\n",
        "print(confusion_matrix(y_test_orig, y_test_pred_orig))"
      ],
      "metadata": {
        "colab": {
          "base_uri": "https://localhost:8080/"
        },
        "id": "vedgqWO-vqq-",
        "outputId": "e3d56cc3-14b1-44ac-ffcc-ea6c49bdfc2e"
      },
      "execution_count": null,
      "outputs": [
        {
          "output_type": "stream",
          "name": "stdout",
          "text": [
            "\n",
            "Confusion Matrix - Testing (Before SMOTE):\n",
            "[[ 2032     0    11     0     0]\n",
            " [    0   618     0    13     0]\n",
            " [   17     0  2946    22     0]\n",
            " [    0    38    31 67892     4]\n",
            " [    3     0     0    84  1222]]\n"
          ]
        }
      ]
    },
    {
      "cell_type": "code",
      "source": [
        "# Apply SMOTE\n",
        "smote = SMOTE(random_state=42)\n",
        "X_resampled, y_resampled = smote.fit_resample(X, y)"
      ],
      "metadata": {
        "id": "AgLUFB7cv0q7"
      },
      "execution_count": null,
      "outputs": []
    },
    {
      "cell_type": "code",
      "source": [
        "# Show class distribution after SMOTE\n",
        "print(\"\\nClass distribution after SMOTE:\")\n",
        "print(Counter(y_resampled))"
      ],
      "metadata": {
        "colab": {
          "base_uri": "https://localhost:8080/"
        },
        "id": "HhUeb329v4Ze",
        "outputId": "d267dd0b-c034-4fc0-b577-8189c474fdff"
      },
      "execution_count": null,
      "outputs": [
        {
          "output_type": "stream",
          "name": "stdout",
          "text": [
            "\n",
            "Class distribution after SMOTE:\n",
            "Counter({'Normal': 340066, 'Flooding': 340066, 'TDMA': 340066, 'Grayhole': 340066, 'Blackhole': 340066})\n"
          ]
        }
      ]
    },
    {
      "cell_type": "code",
      "source": [
        "# Bar chart after SMOTE\n",
        "plt.figure(figsize=(8, 6))\n",
        "sns.countplot(x=y_resampled)\n",
        "plt.title('Class Distribution After SMOTE')\n",
        "plt.show()"
      ],
      "metadata": {
        "colab": {
          "base_uri": "https://localhost:8080/",
          "height": 564
        },
        "id": "LI8C9wZev7gj",
        "outputId": "8897a225-f8fd-40b4-de83-a74669a43ed3"
      },
      "execution_count": null,
      "outputs": [
        {
          "output_type": "display_data",
          "data": {
            "text/plain": [
              "<Figure size 800x600 with 1 Axes>"
            ],
            "image/png": "[encoded data removed]"
          },
          "metadata": {}
        }
      ]
    },
    {
      "cell_type": "code",
      "source": [
        "# Split AFTER SMOTE\n",
        "X_train, X_test, y_train, y_test = train_test_split(X_resampled, y_resampled, test_size=0.2, random_state=42)"
      ],
      "metadata": {
        "id": "OKnkv5k5v_ls"
      },
      "execution_count": null,
      "outputs": []
    },
    {
      "cell_type": "code",
      "source": [
        "# Define individual classifiers for the OOS-GNN ensemble\n",
        "clf1 = RandomForestClassifier(n_estimators=100, random_state=42)\n",
        "clf2 = GradientBoostingClassifier(n_estimators=100, random_state=42)\n",
        "clf3 = KNeighborsClassifier(n_neighbors=5)"
      ],
      "metadata": {
        "id": "2FDpzWp-wCGS"
      },
      "execution_count": null,
      "outputs": []
    },
    {
      "cell_type": "code",
      "source": [
        "# List individual classifiers\n",
        "print(\"\\nIndividual classifiers used in the OOS-GNN ensemble:\")\n",
        "print(\"- Random Forest\")\n",
        "print(\"- Gradient Boosting\")\n",
        "print(\"- K-Nearest Neighbors\")"
      ],
      "metadata": {
        "colab": {
          "base_uri": "https://localhost:8080/"
        },
        "id": "vQkGfNUEwKpS",
        "outputId": "16bfd7e4-305e-4e13-dcef-9c9d2b9e1478"
      },
      "execution_count": null,
      "outputs": [
        {
          "output_type": "stream",
          "name": "stdout",
          "text": [
            "\n",
            "Individual classifiers used in the OOS-GNN ensemble:\n",
            "- Random Forest\n",
            "- Gradient Boosting\n",
            "- K-Nearest Neighbors\n"
          ]
        }
      ]
    },
    {
      "cell_type": "code",
      "source": [
        "# Create the ensemble (OOS-GNN Mock)\n",
        "oos_gnn = VotingClassifier(estimators=[\n",
        "    ('rf', clf1),\n",
        "    ('gb', clf2),\n",
        "    ('knn', clf3)\n",
        "], voting='soft', n_jobs=-1)"
      ],
      "metadata": {
        "id": "kjx-HF9EwMwz"
      },
      "execution_count": null,
      "outputs": []
    },
    {
      "cell_type": "code",
      "source": [
        "# Fit the ensemble\n",
        "start_time = time.time()\n",
        "oos_gnn.fit(X_train, y_train)\n",
        "train_time = time.time() - start_time"
      ],
      "metadata": {
        "colab": {
          "base_uri": "https://localhost:8080/",
          "height": 201
        },
        "id": "-CHD-056wQHK",
        "outputId": "7cfa74d8-c94e-4e49-dcb1-fa0e04a07e7f"
      },
      "execution_count": null,
      "outputs": [
        {
          "output_type": "error",
          "ename": "NameError",
          "evalue": "name 'oos_gnn' is not defined",
          "traceback": [
            "\u001b[0;31m---------------------------------------------------------------------------\u001b[0m",
            "\u001b[0;31mNameError\u001b[0m                                 Traceback (most recent call last)",
            "\u001b[0;32m<ipython-input-6-50e01a4d2c3d>\u001b[0m in \u001b[0;36m<cell line: 0>\u001b[0;34m()\u001b[0m\n\u001b[1;32m      1\u001b[0m \u001b[0;31m# Fit the ensemble\u001b[0m\u001b[0;34m\u001b[0m\u001b[0;34m\u001b[0m\u001b[0m\n\u001b[1;32m      2\u001b[0m \u001b[0mstart_time\u001b[0m \u001b[0;34m=\u001b[0m \u001b[0mtime\u001b[0m\u001b[0;34m.\u001b[0m\u001b[0mtime\u001b[0m\u001b[0;34m(\u001b[0m\u001b[0;34m)\u001b[0m\u001b[0;34m\u001b[0m\u001b[0;34m\u001b[0m\u001b[0m\n\u001b[0;32m----> 3\u001b[0;31m \u001b[0moos_gnn\u001b[0m\u001b[0;34m.\u001b[0m\u001b[0mfit\u001b[0m\u001b[0;34m(\u001b[0m\u001b[0mX_train\u001b[0m\u001b[0;34m,\u001b[0m \u001b[0my_train\u001b[0m\u001b[0;34m)\u001b[0m\u001b[0;34m\u001b[0m\u001b[0;34m\u001b[0m\u001b[0m\n\u001b[0m\u001b[1;32m      4\u001b[0m \u001b[0mtrain_time\u001b[0m \u001b[0;34m=\u001b[0m \u001b[0mtime\u001b[0m\u001b[0;34m.\u001b[0m\u001b[0mtime\u001b[0m\u001b[0;34m(\u001b[0m\u001b[0;34m)\u001b[0m \u001b[0;34m-\u001b[0m \u001b[0mstart_time\u001b[0m\u001b[0;34m\u001b[0m\u001b[0;34m\u001b[0m\u001b[0m\n",
            "\u001b[0;31mNameError\u001b[0m: name 'oos_gnn' is not defined"
          ]
        }
      ]
    },
    {
      "source": [
        "from IPython import get_ipython\n",
        "from IPython.display import display\n",
        "# %%\n",
        "import pandas as pd\n",
        "import numpy as np\n",
        "import matplotlib.pyplot as plt\n",
        "import seaborn as sns\n",
        "import time\n",
        "from collections import Counter\n",
        "from sklearn.model_selection import train_test_split\n",
        "from sklearn.preprocessing import StandardScaler\n",
        "from sklearn.impute import SimpleImputer\n",
        "from sklearn.metrics import accuracy_score, confusion_matrix, roc_auc_score, roc_curve\n",
        "from sklearn.ensemble import RandomForestClassifier, GradientBoostingClassifier, VotingClassifier\n",
        "from sklearn.svm import SVC\n",
        "from sklearn.neighbors import KNeighborsClassifier\n",
        "from xgboost import XGBClassifier\n",
        "from imblearn.over_sampling import SMOTE\n",
        "# %%\n",
        "# Load dataset\n",
        "data = pd.read_csv('wsn-ds.csv')\n",
        "# %%\n",
        "# 🧾 Display total samples\n",
        "print(f\"Total samples in dataset: {data.shape[0]}\") # Assuming 'df' should be 'data'\n",
        "print(\"\\nSample data:\\n\", data.head())            # Assuming 'df' should be 'data'\n",
        "# %%\n",
        "# ✅ Check unique attack types\n",
        "print(\"\\nUnique Attack Types:\\n\", data['Attack type'].value_counts()) # Assuming 'df' should be 'data'\n",
        "# %%\n",
        "# 🔢 Visualize class distribution before SMOTE\n",
        "attack_counts = data['Attack type'].value_counts() # Assuming 'df' should be 'data'\n",
        "plt.figure(figsize=(10,6))\n",
        "sns.barplot(x=attack_counts.index, y=attack_counts.values, palette=\"viridis\")\n",
        "plt.title('Class Distribution Before SMOTE')\n",
        "plt.xlabel('Attack type')\n",
        "plt.ylabel('Number of Samples')\n",
        "plt.show()\n",
        "# %%\n",
        "# 🧹 Preprocess dataset\n",
        "X = data.drop(['Attack type'], axis=1) # Assuming 'df' should be 'data'\n",
        "y = data['Attack type']              # Assuming 'df' should be 'data'\n",
        "# %%\n",
        "# Prepare features and target\n",
        "X = data.drop('Attack type', axis=1)\n",
        "y = data['Attack type']\n",
        "# %%\n",
        "# Handle missing values\n",
        "imputer = SimpleImputer(strategy='mean')\n",
        "X = imputer.fit_transform(X)\n",
        "# %%\n",
        "# Feature scaling\n",
        "scaler = StandardScaler()\n",
        "X = scaler.fit_transform(X)\n",
        "# %%\n",
        "# Split BEFORE SMOTE\n",
        "X_train_orig, X_test_orig, y_train_orig, y_test_orig = train_test_split(X, y, test_size=0.2, random_state=42)\n",
        "# %%\n",
        "# Confusion matrices before SMOTE using RandomForest\n",
        "rf_before = RandomForestClassifier(n_estimators=100, random_state=42)\n",
        "rf_before.fit(X_train_orig, y_train_orig)\n",
        "y_train_pred_orig = rf_before.predict(X_train_orig)\n",
        "y_test_pred_orig = rf_before.predict(X_test_orig)\n",
        "# %%\n",
        "print(\"\\nConfusion Matrix - Training (Before SMOTE):\")\n",
        "print(confusion_matrix(y_train_orig, y_train_pred_orig))\n",
        "# %%\n",
        "print(\"\\nConfusion Matrix - Testing (Before SMOTE):\")\n",
        "print(confusion_matrix(y_test_orig, y_test_pred_orig))\n",
        "# %%\n",
        "# Apply SMOTE\n",
        "smote = SMOTE(random_state=42)\n",
        "X_resampled, y_resampled = smote.fit_resample(X, y)\n",
        "# %%\n",
        "# Show class distribution after SMOTE\n",
        "print(\"\\nClass distribution after SMOTE:\")\n",
        "print(Counter(y_resampled))\n",
        "# %%\n",
        "# Bar chart after SMOTE\n",
        "plt.figure(figsize=(8, 6))\n",
        "sns.countplot(x=y_resampled)\n",
        "plt.title('Class Distribution After SMOTE')\n",
        "plt.show()\n",
        "# %%\n",
        "# Split AFTER SMOTE\n",
        "X_train, X_test, y_train, y_test = train_test_split(X_resampled, y_resampled, test_size=0.2, random_state=42)\n",
        "# %%\n",
        "# Define individual classifiers for the OOS-GNN ensemble\n",
        "clf1 = RandomForestClassifier(n_estimators=100, random_state=42)\n",
        "clf2 = GradientBoostingClassifier(n_estimators=100, random_state=42)\n",
        "clf3 = KNeighborsClassifier(n_neighbors=5)\n",
        "# %%\n",
        "# List individual classifiers\n",
        "print(\"\\nIndividual classifiers used in the OOS-GNN ensemble:\")\n",
        "print(\"- Random Forest\")\n",
        "print(\"- Gradient Boosting\")\n",
        "print(\"- K-Nearest Neighbors\")\n",
        "# %%\n",
        "# Create the ensemble (OOS-GNN Mock)\n",
        "oos_gnn = VotingClassifier(estimators=[\n",
        "    ('rf', clf1),\n",
        "    ('gb', clf2),\n",
        "    ('knn', clf3)\n",
        "], voting='soft', n_jobs=-1)\n",
        "# %%\n",
        "# Fit the ensemble\n",
        "start_time = time.time()\n",
        "oos_gnn.fit(X_train, y_train)\n",
        "train_time = time.time() - start_time"
      ],
      "cell_type": "code",
      "metadata": {
        "colab": {
          "base_uri": "https://localhost:8080/",
          "height": 1000
        },
        "id": "wbnQhYw3UYmY",
        "outputId": "6f78f5ad-45b0-48bd-bb87-a159eb6ead5e"
      },
      "execution_count": 1,
      "outputs": [
        {
          "metadata": {
            "tags": null
          },
          "name": "stdout",
          "output_type": "stream",
          "text": [
            "Total samples in dataset: 374661\n",
            "\n",
            "Sample data:\n",
            "        id   Time   Is_CH   who CH   Dist_To_CH   ADV_S   ADV_R   JOIN_S  \\\n",
            "0  101000     50       1   101000      0.00000       1       0        0   \n",
            "1  101001     50       0   101044     75.32345       0       4        1   \n",
            "2  101002     50       0   101010     46.95453       0       4        1   \n",
            "3  101003     50       0   101044     64.85231       0       4        1   \n",
            "4  101004     50       0   101010      4.83341       0       4        1   \n",
            "\n",
            "    JOIN_R   SCH_S   SCH_R  Rank   DATA_S   DATA_R   Data_Sent_To_BS  \\\n",
            "0       25       1       0     0        0     1200                48   \n",
            "1        0       0       1     2       38        0                 0   \n",
            "2        0       0       1    19       41        0                 0   \n",
            "3        0       0       1    16       38        0                 0   \n",
            "4        0       0       1    25       41        0                 0   \n",
            "\n",
            "    dist_CH_To_BS   send_code   Consumed Energy Attack type  \n",
            "0       130.08535            0          2.46940      Normal  \n",
            "1         0.00000            4          0.06957      Normal  \n",
            "2         0.00000            3          0.06898      Normal  \n",
            "3         0.00000            4          0.06673      Normal  \n",
            "4         0.00000            3          0.06534      Normal  \n",
            "\n",
            "Unique Attack Types:\n",
            " Attack type\n",
            "Normal       340066\n",
            "Grayhole      14596\n",
            "Blackhole     10049\n",
            "TDMA           6638\n",
            "Flooding       3312\n",
            "Name: count, dtype: int64\n"
          ]
        },
        {
          "metadata": {
            "tags": null
          },
          "name": "stderr",
          "output_type": "stream",
          "text": [
            "<ipython-input-1-811b44bf7e2b>:33: FutureWarning: \n",
            "\n",
            "Passing `palette` without assigning `hue` is deprecated and will be removed in v0.14.0. Assign the `x` variable to `hue` and set `legend=False` for the same effect.\n",
            "\n",
            "  sns.barplot(x=attack_counts.index, y=attack_counts.values, palette=\"viridis\")\n"
          ]
        },
        {
          "data": {
            "image/png": "[encoded data removed]",
            "text/plain": [
              "<Figure size 1000x600 with 1 Axes>"
            ]
          },
          "metadata": {},
          "output_type": "display_data"
        },
        {
          "metadata": {
            "tags": null
          },
          "name": "stdout",
          "output_type": "stream",
          "text": [
            "\n",
            "Confusion Matrix - Training (Before SMOTE):\n",
            "[[  8006      0      0      0      0]\n",
            " [     0   2681      0      0      0]\n",
            " [     0      0  11611      0      0]\n",
            " [     0      0      0 272101      0]\n",
            " [     0      0      0      2   5327]]\n",
            "\n",
            "Confusion Matrix - Testing (Before SMOTE):\n",
            "[[ 2032     0    11     0     0]\n",
            " [    0   618     0    13     0]\n",
            " [   17     0  2946    22     0]\n",
            " [    0    38    31 67892     4]\n",
            " [    3     0     0    84  1222]]\n",
            "\n",
            "Class distribution after SMOTE:\n",
            "Counter({'Normal': 340066, 'Flooding': 340066, 'TDMA': 340066, 'Grayhole': 340066, 'Blackhole': 340066})\n"
          ]
        },
        {
          "data": {
            "image/png": "[encoded data removed]",
            "text/plain": [
              "<Figure size 800x600 with 1 Axes>"
            ]
          },
          "metadata": {},
          "output_type": "display_data"
        },
        {
          "metadata": {
            "tags": null
          },
          "name": "stdout",
          "output_type": "stream",
          "text": [
            "\n",
            "Individual classifiers used in the OOS-GNN ensemble:\n",
            "- Random Forest\n",
            "- Gradient Boosting\n",
            "- K-Nearest Neighbors\n"
          ]
        }
      ]
    },
    {
      "cell_type": "code",
      "source": [
        "# Training results\n",
        "y_train_pred = oos_gnn.predict(X_train)\n",
        "train_accuracy = accuracy_score(y_train, y_train_pred)\n",
        "train_cm = confusion_matrix(y_train, y_train_pred)"
      ],
      "metadata": {
        "id": "-rDwpoxkjI_Q"
      },
      "execution_count": 2,
      "outputs": []
    },
    {
      "cell_type": "code",
      "source": [
        "# Testing results\n",
        "start_time = time.time()\n",
        "y_test_pred = oos_gnn.predict(X_test)\n",
        "test_time = time.time() - start_time\n",
        "test_accuracy = accuracy_score(y_test, y_test_pred)\n",
        "test_cm = confusion_matrix(y_test, y_test_pred)"
      ],
      "metadata": {
        "id": "BlxYhY3bDRFo"
      },
      "execution_count": 3,
      "outputs": []
    },
    {
      "cell_type": "code",
      "source": [
        "print(f\"\\nOOS-GNN Training Accuracy: {train_accuracy:.4f}\")\n",
        "print(f\"OOS-GNN Testing Accuracy: {test_accuracy:.4f}\")\n",
        "print(f\"Training Time: {train_time:.2f}s, Testing Time: {test_time:.2f}s\")\n",
        "\n",
        "print(\"\\nConfusion Matrix - Training (OOS-GNN):\")\n",
        "print(train_cm)\n",
        "\n",
        "print(\"\\nConfusion Matrix - Testing (OOS-GNN):\")\n",
        "print(test_cm)"
      ],
      "metadata": {
        "colab": {
          "base_uri": "https://localhost:8080/"
        },
        "id": "VW2HK1nePrZw",
        "outputId": "d766a704-e590-4bf2-f7ee-5ddbac259045"
      },
      "execution_count": 4,
      "outputs": [
        {
          "output_type": "stream",
          "name": "stdout",
          "text": [
            "\n",
            "OOS-GNN Training Accuracy: 0.9995\n",
            "OOS-GNN Testing Accuracy: 0.9989\n",
            "Training Time: 4023.84s, Testing Time: 3052.60s\n",
            "\n",
            "Confusion Matrix - Training (OOS-GNN):\n",
            "[[272058      0     13      0      0]\n",
            " [     0 271705      0      0      0]\n",
            " [    49      0 271861      0      0]\n",
            " [     5    240    196 271981     87]\n",
            " [     0      0      0     88 271981]]\n",
            "\n",
            "Confusion Matrix - Testing (OOS-GNN):\n",
            "[[67991     0     4     0     0]\n",
            " [    0 68360     0     1     0]\n",
            " [   36     0 68120     0     0]\n",
            " [    0    65    79 67358    55]\n",
            " [    1     0     0   145 67851]]\n"
          ]
        }
      ]
    },
    {
      "cell_type": "code",
      "source": [
        "# Comparison with other methods\n",
        "models = {\n",
        "    'Random Forest': RandomForestClassifier(),\n",
        "    'SVM': SVC(probability=True),\n",
        "    'KNN': KNeighborsClassifier(),\n",
        "    'Gradient Boosting': GradientBoostingClassifier(),\n",
        "    'XGBoost': XGBClassifier(eval_metric='mlogloss')\n",
        "}\n",
        "\n",
        "accuracies = {}\n",
        "times = {}\n",
        "rocs = {}"
      ],
      "metadata": {
        "id": "fqFcvVN4PwYf"
      },
      "execution_count": 5,
      "outputs": []
    },
    {
      "cell_type": "code",
      "source": [
        "for name, model in models.items():\n",
        "    start_time = time.time()\n",
        "    model.fit(X_train, y_train)\n",
        "    elapsed_time = time.time() - start_time\n",
        "    y_pred = model.predict(X_test)\n",
        "    acc = accuracy_score(y_test, y_pred)\n",
        "    y_proba = model.predict_proba(X_test)\n",
        "    roc = roc_auc_score(pd.get_dummies(y_test), y_proba, multi_class='ovr')\n",
        "\n",
        "    accuracies[name] = acc\n",
        "    times[name] = elapsed_time\n",
        "    rocs[name] = roc\n",
        "    print(f\"{name} Accuracy: {acc:.4f}, Time: {elapsed_time:.2f}s, ROC AUC: {roc:.4f}\")\n",
        "    print(f\"Confusion Matrix - {name}:\\n{confusion_matrix(y_test, y_pred)}\\n\")"
      ],
      "metadata": {
        "colab": {
          "base_uri": "https://localhost:8080/"
        },
        "id": "PywVV7hHPy_-",
        "outputId": "9e48316c-0972-48ae-f9e1-02b6907be336"
      },
      "execution_count": null,
      "outputs": [
        {
          "output_type": "stream",
          "name": "stdout",
          "text": [
            "Random Forest Accuracy: 0.9991, Time: 480.97s, ROC AUC: 1.0000\n",
            "Confusion Matrix - Random Forest:\n",
            "[[67987     0     8     0     0]\n",
            " [    0 68359     0     2     0]\n",
            " [   29     0 68125     2     0]\n",
            " [    0    52    46 67426    33]\n",
            " [    2     0     0   124 67871]]\n",
            "\n"
          ]
        }
      ]
    }
  ],
  "metadata": {
    "colab": {
      "provenance": [],
      "authorship_tag": "ABX9TyPxyqe9CAZZHC7WMKA5X3SW",
      "include_colab_link": true
    },
    "kernelspec": {
      "display_name": "Python 3",
      "name": "python3"
    },
    "language_info": {
      "name": "python"
    }
  },
  "nbformat": 4,
  "nbformat_minor": 0
}
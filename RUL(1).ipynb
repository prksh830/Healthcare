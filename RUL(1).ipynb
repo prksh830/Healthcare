{
  "nbformat": 4,
  "nbformat_minor": 0,
  "metadata": {
    "colab": {
      "provenance": [],
      "authorship_tag": "ABX9TyNnfQtlmgQe9g+SAHlTmTum",
      "include_colab_link": true
    },
    "kernelspec": {
      "name": "python3",
      "display_name": "Python 3"
    },
    "language_info": {
      "name": "python"
    }
  },
  "cells": [
    {
      "cell_type": "markdown",
      "metadata": {
        "id": "view-in-github",
        "colab_type": "text"
      },
      "source": [
        "<a href=\"https://colab.research.google.com/github/prksh830/Healthcare/blob/main/RUL(1).ipynb\" target=\"_parent\"><img src=\"https://colab.research.google.com/assets/colab-badge.svg\" alt=\"Open In Colab\"/></a>"
      ]
    },
    {
      "cell_type": "code",
      "execution_count": 1,
      "metadata": {
        "colab": {
          "base_uri": "https://localhost:8080/"
        },
        "id": "Dr-IUmEX63yk",
        "outputId": "08ad1fd6-6914-4143-d1e9-e85f98dcd99f"
      },
      "outputs": [
        {
          "output_type": "stream",
          "name": "stdout",
          "text": [
            "Initial dataset shape: 15064 samples, 8 features\n"
          ]
        }
      ],
      "source": [
        "import pandas as pd\n",
        "\n",
        "# Load dataset\n",
        "data = pd.read_csv('Battery_RUL.csv')  # Replace with your dataset path\n",
        "\n",
        "# Remove cycle index\n",
        "if 'cycle' in data.columns:\n",
        "    data = data.drop(columns=['cycle'])\n",
        "\n",
        "# Separate features and target\n",
        "X = data.drop(columns=['RUL'])  # Replace 'RUL' with your target column name\n",
        "y = data['RUL']\n",
        "\n",
        "print(f\"Initial dataset shape: {X.shape[0]} samples, {X.shape[1]} features\")"
      ]
    },
    {
      "cell_type": "code",
      "source": [
        "import pandas as pd\n",
        "\n",
        "# Load dataset\n",
        "data = pd.read_csv('Battery_RUL1.csv')  # Replace with your dataset path\n",
        "\n",
        "# Remove cycle index\n",
        "if 'cycle' in data.columns:\n",
        "    data = data.drop(columns=['cycle'])\n",
        "\n",
        "# Separate features and target\n",
        "X = data.drop(columns=['RUL'])  # Replace 'RUL' with your target column name\n",
        "y = data['RUL']\n",
        "\n",
        "print(f\"Initial dataset shape: {X.shape[0]} samples, {X.shape[1]} features\")"
      ],
      "metadata": {
        "colab": {
          "base_uri": "https://localhost:8080/"
        },
        "id": "dbKdsS-r7Mag",
        "outputId": "26f8748e-5bc5-4d0c-b775-e1ac6f8ddf85"
      },
      "execution_count": 3,
      "outputs": [
        {
          "output_type": "stream",
          "name": "stdout",
          "text": [
            "Initial dataset shape: 15064 samples, 7 features\n"
          ]
        }
      ]
    },
    {
      "cell_type": "code",
      "source": [
        "import numpy as np\n",
        "\n",
        "# Compute IQR\n",
        "Q1 = X.quantile(0.25)\n",
        "Q3 = X.quantile(0.75)\n",
        "IQR = Q3 - Q1\n",
        "\n",
        "# Filter out outliers\n",
        "mask = ~((X < (Q1 - 1.5 * IQR)) | (X > (Q3 + 1.5 * IQR))).any(axis=1)\n",
        "X, y = X[mask], y[mask]\n",
        "\n",
        "print(f\"Dataset after outlier removal: {X.shape[0]} samples, {X.shape[1]} features\")"
      ],
      "metadata": {
        "colab": {
          "base_uri": "https://localhost:8080/"
        },
        "id": "gdEyobIb7w7O",
        "outputId": "10fecc21-5c8a-4ef0-c98a-a16149d52459"
      },
      "execution_count": 4,
      "outputs": [
        {
          "output_type": "stream",
          "name": "stdout",
          "text": [
            "Dataset after outlier removal: 14445 samples, 7 features\n"
          ]
        }
      ]
    },
    {
      "cell_type": "code",
      "source": [
        "from sklearn.model_selection import train_test_split\n",
        "\n",
        "X_train, X_test, y_train, y_test = train_test_split(\n",
        "    X, y, test_size=0.2, random_state=42\n",
        ")\n",
        "\n",
        "print(f\"Training set: {X_train.shape[0]} samples\")\n",
        "print(f\"Testing set: {X_test.shape[0]} samples\")"
      ],
      "metadata": {
        "colab": {
          "base_uri": "https://localhost:8080/"
        },
        "id": "IwYaJ56a76Sd",
        "outputId": "f6e64d4f-c917-46a1-f5ec-2339df84bb23"
      },
      "execution_count": 5,
      "outputs": [
        {
          "output_type": "stream",
          "name": "stdout",
          "text": [
            "Training set: 11556 samples\n",
            "Testing set: 2889 samples\n"
          ]
        }
      ]
    },
    {
      "cell_type": "code",
      "source": [
        "from sklearn.preprocessing import StandardScaler\n",
        "\n",
        "scaler = StandardScaler()\n",
        "X_train_scaled = scaler.fit_transform(X_train)\n",
        "X_test_scaled = scaler.transform(X_test)"
      ],
      "metadata": {
        "id": "YtWe9PdJ79Eu"
      },
      "execution_count": 6,
      "outputs": []
    },
    {
      "cell_type": "code",
      "source": [
        "pip install xgboost"
      ],
      "metadata": {
        "colab": {
          "base_uri": "https://localhost:8080/"
        },
        "id": "Dns1bOG88Gdy",
        "outputId": "a52a8b14-cdb9-4dbb-dafe-2917903f2992"
      },
      "execution_count": 8,
      "outputs": [
        {
          "output_type": "stream",
          "name": "stdout",
          "text": [
            "Requirement already satisfied: xgboost in /usr/local/lib/python3.12/dist-packages (3.0.5)\n",
            "Requirement already satisfied: numpy in /usr/local/lib/python3.12/dist-packages (from xgboost) (2.0.2)\n",
            "Requirement already satisfied: nvidia-nccl-cu12 in /usr/local/lib/python3.12/dist-packages (from xgboost) (2.27.3)\n",
            "Requirement already satisfied: scipy in /usr/local/lib/python3.12/dist-packages (from xgboost) (1.16.2)\n"
          ]
        }
      ]
    },
    {
      "cell_type": "code",
      "source": [
        "pip install optuna"
      ],
      "metadata": {
        "colab": {
          "base_uri": "https://localhost:8080/"
        },
        "id": "_U85whnt8L5N",
        "outputId": "4da6fb3e-dedf-4f46-b5fb-451bf6037182"
      },
      "execution_count": 9,
      "outputs": [
        {
          "output_type": "stream",
          "name": "stdout",
          "text": [
            "Collecting optuna\n",
            "  Downloading optuna-4.5.0-py3-none-any.whl.metadata (17 kB)\n",
            "Requirement already satisfied: alembic>=1.5.0 in /usr/local/lib/python3.12/dist-packages (from optuna) (1.16.5)\n",
            "Collecting colorlog (from optuna)\n",
            "  Downloading colorlog-6.9.0-py3-none-any.whl.metadata (10 kB)\n",
            "Requirement already satisfied: numpy in /usr/local/lib/python3.12/dist-packages (from optuna) (2.0.2)\n",
            "Requirement already satisfied: packaging>=20.0 in /usr/local/lib/python3.12/dist-packages (from optuna) (25.0)\n",
            "Requirement already satisfied: sqlalchemy>=1.4.2 in /usr/local/lib/python3.12/dist-packages (from optuna) (2.0.43)\n",
            "Requirement already satisfied: tqdm in /usr/local/lib/python3.12/dist-packages (from optuna) (4.67.1)\n",
            "Requirement already satisfied: PyYAML in /usr/local/lib/python3.12/dist-packages (from optuna) (6.0.2)\n",
            "Requirement already satisfied: Mako in /usr/local/lib/python3.12/dist-packages (from alembic>=1.5.0->optuna) (1.3.10)\n",
            "Requirement already satisfied: typing-extensions>=4.12 in /usr/local/lib/python3.12/dist-packages (from alembic>=1.5.0->optuna) (4.15.0)\n",
            "Requirement already satisfied: greenlet>=1 in /usr/local/lib/python3.12/dist-packages (from sqlalchemy>=1.4.2->optuna) (3.2.4)\n",
            "Requirement already satisfied: MarkupSafe>=0.9.2 in /usr/local/lib/python3.12/dist-packages (from Mako->alembic>=1.5.0->optuna) (3.0.2)\n",
            "Downloading optuna-4.5.0-py3-none-any.whl (400 kB)\n",
            "\u001b[2K   \u001b[90m━━━━━━━━━━━━━━━━━━━━━━━━━━━━━━━━━━━━━━━━\u001b[0m \u001b[32m400.9/400.9 kB\u001b[0m \u001b[31m12.0 MB/s\u001b[0m eta \u001b[36m0:00:00\u001b[0m\n",
            "\u001b[?25hDownloading colorlog-6.9.0-py3-none-any.whl (11 kB)\n",
            "Installing collected packages: colorlog, optuna\n",
            "Successfully installed colorlog-6.9.0 optuna-4.5.0\n"
          ]
        }
      ]
    },
    {
      "cell_type": "code",
      "source": [
        "import xgboost as xgb\n",
        "import optuna\n",
        "from sklearn.metrics import mean_squared_error\n",
        "import numpy as np\n",
        "\n",
        "def optimize_xgboost(X_train, y_train, n_trials=30):\n",
        "    def objective(trial):\n",
        "        params = {\n",
        "            'n_estimators': trial.suggest_int('n_estimators', 50, 500),\n",
        "            'max_depth': trial.suggest_int('max_depth', 3, 12),\n",
        "            'learning_rate': trial.suggest_float('learning_rate', 0.01, 0.3),\n",
        "            'subsample': trial.suggest_float('subsample', 0.6, 1.0),\n",
        "            'colsample_bytree': trial.suggest_float('colsample_bytree', 0.6, 1.0),\n",
        "            'gamma': trial.suggest_float('gamma', 0, 5)\n",
        "        }\n",
        "        model = xgb.XGBRegressor(**params, random_state=42)\n",
        "        model.fit(X_train, y_train)\n",
        "        preds = model.predict(X_train)\n",
        "        rmse = np.sqrt(mean_squared_error(y_train, preds))\n",
        "        return rmse\n",
        "\n",
        "    study = optuna.create_study(direction='minimize')\n",
        "    study.optimize(objective, n_trials=n_trials)\n",
        "    return study.best_params\n",
        "\n",
        "xgb_params = optimize_xgboost(X_train.values, y_train)\n",
        "print(\"Best XGBoost params:\", xgb_params)"
      ],
      "metadata": {
        "colab": {
          "base_uri": "https://localhost:8080/"
        },
        "id": "KOByKvdJ8AsE",
        "outputId": "d8e7c864-63af-4731-c4cc-eb1d29333de9"
      },
      "execution_count": 11,
      "outputs": [
        {
          "output_type": "stream",
          "name": "stderr",
          "text": [
            "[I 2025-09-30 14:05:54,256] A new study created in memory with name: no-name-57f2d123-a64c-45e4-9ecc-eebb5ea71324\n",
            "[I 2025-09-30 14:05:54,811] Trial 0 finished with value: 11.724029409745864 and parameters: {'n_estimators': 388, 'max_depth': 5, 'learning_rate': 0.15678344095276617, 'subsample': 0.7955732970442503, 'colsample_bytree': 0.6162678962389877, 'gamma': 4.1659522305037475}. Best is trial 0 with value: 11.724029409745864.\n",
            "[I 2025-09-30 14:05:55,211] Trial 1 finished with value: 14.443554157958047 and parameters: {'n_estimators': 139, 'max_depth': 7, 'learning_rate': 0.0795469272579617, 'subsample': 0.7949973250364671, 'colsample_bytree': 0.7911625538948883, 'gamma': 4.052349107605625}. Best is trial 0 with value: 11.724029409745864.\n",
            "[I 2025-09-30 14:05:55,750] Trial 2 finished with value: 8.35812773624399 and parameters: {'n_estimators': 362, 'max_depth': 5, 'learning_rate': 0.24834235059301685, 'subsample': 0.9717017587049914, 'colsample_bytree': 0.7216173094888155, 'gamma': 0.960705619012977}. Best is trial 2 with value: 8.35812773624399.\n",
            "[I 2025-09-30 14:05:57,052] Trial 3 finished with value: 2.007242440961449 and parameters: {'n_estimators': 169, 'max_depth': 11, 'learning_rate': 0.17841383541138622, 'subsample': 0.8701237990394775, 'colsample_bytree': 0.8821434715642699, 'gamma': 3.7185764619418302}. Best is trial 3 with value: 2.007242440961449.\n",
            "[I 2025-09-30 14:05:57,431] Trial 4 finished with value: 6.895906599717781 and parameters: {'n_estimators': 102, 'max_depth': 8, 'learning_rate': 0.23018218887512837, 'subsample': 0.8794872889414215, 'colsample_bytree': 0.7598124613748086, 'gamma': 2.85066803092676}. Best is trial 3 with value: 2.007242440961449.\n",
            "[I 2025-09-30 14:05:57,523] Trial 5 finished with value: 47.084596510065 and parameters: {'n_estimators': 78, 'max_depth': 3, 'learning_rate': 0.035861626321137104, 'subsample': 0.9311719634310206, 'colsample_bytree': 0.8351520251943161, 'gamma': 0.8262268398262662}. Best is trial 3 with value: 2.007242440961449.\n",
            "[I 2025-09-30 14:05:59,746] Trial 6 finished with value: 1.723496074493869 and parameters: {'n_estimators': 361, 'max_depth': 10, 'learning_rate': 0.11847077523155047, 'subsample': 0.8588934420464445, 'colsample_bytree': 0.8196309567992295, 'gamma': 1.3296319322572718}. Best is trial 6 with value: 1.723496074493869.\n",
            "[I 2025-09-30 14:05:59,996] Trial 7 finished with value: 14.272196297634192 and parameters: {'n_estimators': 144, 'max_depth': 5, 'learning_rate': 0.2680356384854873, 'subsample': 0.744059002801861, 'colsample_bytree': 0.8419588216109426, 'gamma': 1.123316012892484}. Best is trial 6 with value: 1.723496074493869.\n",
            "[I 2025-09-30 14:06:00,155] Trial 8 finished with value: 13.99067595478771 and parameters: {'n_estimators': 55, 'max_depth': 7, 'learning_rate': 0.26437286269922905, 'subsample': 0.9244384308220788, 'colsample_bytree': 0.6957758647574016, 'gamma': 4.502206282501618}. Best is trial 6 with value: 1.723496074493869.\n",
            "[I 2025-09-30 14:06:00,349] Trial 9 finished with value: 54.54292944409706 and parameters: {'n_estimators': 136, 'max_depth': 4, 'learning_rate': 0.015796027792025446, 'subsample': 0.9039878930408587, 'colsample_bytree': 0.8835415736244845, 'gamma': 3.9214894977840813}. Best is trial 6 with value: 1.723496074493869.\n",
            "[I 2025-09-30 14:06:03,477] Trial 10 finished with value: 1.6068750612488136 and parameters: {'n_estimators': 278, 'max_depth': 12, 'learning_rate': 0.09235326680804821, 'subsample': 0.6666125893921611, 'colsample_bytree': 0.9915680606886201, 'gamma': 2.0528349354132533}. Best is trial 10 with value: 1.6068750612488136.\n",
            "[I 2025-09-30 14:06:08,468] Trial 11 finished with value: 1.8276410236557636 and parameters: {'n_estimators': 274, 'max_depth': 12, 'learning_rate': 0.09001126166926669, 'subsample': 0.602806706612232, 'colsample_bytree': 0.9945110351761868, 'gamma': 2.0717704063193905}. Best is trial 10 with value: 1.6068750612488136.\n",
            "[I 2025-09-30 14:06:10,535] Trial 12 finished with value: 2.3453406467565885 and parameters: {'n_estimators': 287, 'max_depth': 10, 'learning_rate': 0.1149977903712211, 'subsample': 0.660604545001696, 'colsample_bytree': 0.9705558749108044, 'gamma': 2.146310168474515}. Best is trial 10 with value: 1.6068750612488136.\n",
            "[I 2025-09-30 14:06:13,185] Trial 13 finished with value: 1.6600526306127823 and parameters: {'n_estimators': 477, 'max_depth': 9, 'learning_rate': 0.12228814304192279, 'subsample': 0.7068866964327051, 'colsample_bytree': 0.9367393312619285, 'gamma': 0.12116649723599338}. Best is trial 10 with value: 1.6068750612488136.\n",
            "[I 2025-09-30 14:06:15,804] Trial 14 finished with value: 0.9811162140630623 and parameters: {'n_estimators': 480, 'max_depth': 9, 'learning_rate': 0.19972071469917568, 'subsample': 0.700739212158957, 'colsample_bytree': 0.9296167500727482, 'gamma': 0.19519700860958433}. Best is trial 14 with value: 0.9811162140630623.\n",
            "[I 2025-09-30 14:06:22,734] Trial 15 finished with value: 0.38402214446639277 and parameters: {'n_estimators': 482, 'max_depth': 12, 'learning_rate': 0.19801920896064484, 'subsample': 0.6698667882115374, 'colsample_bytree': 0.9230963119212539, 'gamma': 0.01048641363146574}. Best is trial 15 with value: 0.38402214446639277.\n",
            "[I 2025-09-30 14:06:25,379] Trial 16 finished with value: 1.0597737622396832 and parameters: {'n_estimators': 469, 'max_depth': 9, 'learning_rate': 0.20580489806576244, 'subsample': 0.6083184844298117, 'colsample_bytree': 0.9129481966734895, 'gamma': 0.0533214200661981}. Best is trial 15 with value: 0.38402214446639277.\n",
            "[I 2025-09-30 14:06:28,530] Trial 17 finished with value: 0.6379901852674931 and parameters: {'n_estimators': 425, 'max_depth': 11, 'learning_rate': 0.19701688555179336, 'subsample': 0.7133811519598285, 'colsample_bytree': 0.9291745201981522, 'gamma': 0.4702409372244838}. Best is trial 15 with value: 0.38402214446639277.\n",
            "[I 2025-09-30 14:06:31,485] Trial 18 finished with value: 1.2717678146749327 and parameters: {'n_estimators': 422, 'max_depth': 11, 'learning_rate': 0.29846780781453497, 'subsample': 0.7466187256508767, 'colsample_bytree': 0.881793208464344, 'gamma': 3.0500339662783014}. Best is trial 15 with value: 0.38402214446639277.\n",
            "[I 2025-09-30 14:06:35,479] Trial 19 finished with value: 0.6906745185187871 and parameters: {'n_estimators': 422, 'max_depth': 12, 'learning_rate': 0.16071315457712795, 'subsample': 0.6452706066349978, 'colsample_bytree': 0.9470624469108817, 'gamma': 0.6329400493884991}. Best is trial 15 with value: 0.38402214446639277.\n",
            "[I 2025-09-30 14:06:37,507] Trial 20 finished with value: 1.0406211692579173 and parameters: {'n_estimators': 317, 'max_depth': 11, 'learning_rate': 0.21649628392580864, 'subsample': 0.7387813970931957, 'colsample_bytree': 0.8586698607290282, 'gamma': 1.5744404853746266}. Best is trial 15 with value: 0.38402214446639277.\n",
            "[I 2025-09-30 14:06:41,001] Trial 21 finished with value: 0.6655998834160556 and parameters: {'n_estimators': 425, 'max_depth': 12, 'learning_rate': 0.17087991250401757, 'subsample': 0.6561941908012181, 'colsample_bytree': 0.9481091222376263, 'gamma': 0.5941683348530139}. Best is trial 15 with value: 0.38402214446639277.\n",
            "[I 2025-09-30 14:06:46,200] Trial 22 finished with value: 0.6297911584692025 and parameters: {'n_estimators': 439, 'max_depth': 12, 'learning_rate': 0.18270884301235296, 'subsample': 0.6996056537024687, 'colsample_bytree': 0.9567084901579047, 'gamma': 0.5152052607433718}. Best is trial 15 with value: 0.38402214446639277.\n",
            "[I 2025-09-30 14:06:49,400] Trial 23 finished with value: 0.7079935427575991 and parameters: {'n_estimators': 500, 'max_depth': 10, 'learning_rate': 0.1887264317699693, 'subsample': 0.7007158330605598, 'colsample_bytree': 0.9070813429851146, 'gamma': 0.432461469180721}. Best is trial 15 with value: 0.38402214446639277.\n",
            "[I 2025-09-30 14:06:52,234] Trial 24 finished with value: 1.0772320463322667 and parameters: {'n_estimators': 443, 'max_depth': 11, 'learning_rate': 0.1374772737822049, 'subsample': 0.7764743672241899, 'colsample_bytree': 0.9662152813654308, 'gamma': 1.4760227850561207}. Best is trial 15 with value: 0.38402214446639277.\n",
            "[I 2025-09-30 14:06:58,035] Trial 25 finished with value: 0.3654719513308086 and parameters: {'n_estimators': 375, 'max_depth': 12, 'learning_rate': 0.22923378492695154, 'subsample': 0.8334273539516317, 'colsample_bytree': 0.9104617149434099, 'gamma': 0.0034110438186890956}. Best is trial 25 with value: 0.3654719513308086.\n",
            "[I 2025-09-30 14:07:01,654] Trial 26 finished with value: 0.634407740720532 and parameters: {'n_estimators': 214, 'max_depth': 12, 'learning_rate': 0.23345148232661528, 'subsample': 0.8308467392940463, 'colsample_bytree': 0.7871917494909499, 'gamma': 0.08012233716080723}. Best is trial 25 with value: 0.3654719513308086.\n",
            "[I 2025-09-30 14:07:03,066] Trial 27 finished with value: 1.1699746554637371 and parameters: {'n_estimators': 356, 'max_depth': 10, 'learning_rate': 0.2985203879649884, 'subsample': 0.8360676716165574, 'colsample_bytree': 0.8698213782631313, 'gamma': 1.7271963040814344}. Best is trial 25 with value: 0.3654719513308086.\n",
            "[I 2025-09-30 14:07:04,551] Trial 28 finished with value: 1.8569209469272532 and parameters: {'n_estimators': 383, 'max_depth': 8, 'learning_rate': 0.22007858579434902, 'subsample': 0.8316885070362698, 'colsample_bytree': 0.9080397718916156, 'gamma': 0.9225236096720287}. Best is trial 25 with value: 0.3654719513308086.\n",
            "[I 2025-09-30 14:07:05,821] Trial 29 finished with value: 1.7501061271095077 and parameters: {'n_estimators': 396, 'max_depth': 12, 'learning_rate': 0.25811136195578965, 'subsample': 0.7829464645801247, 'colsample_bytree': 0.6419737808042736, 'gamma': 4.903623402126669}. Best is trial 25 with value: 0.3654719513308086.\n"
          ]
        },
        {
          "output_type": "stream",
          "name": "stdout",
          "text": [
            "Best XGBoost params: {'n_estimators': 375, 'max_depth': 12, 'learning_rate': 0.22923378492695154, 'subsample': 0.8334273539516317, 'colsample_bytree': 0.9104617149434099, 'gamma': 0.0034110438186890956}\n"
          ]
        }
      ]
    },
    {
      "cell_type": "code",
      "source": [
        "from sklearn.ensemble import RandomForestRegressor\n",
        "from sklearn.metrics import mean_squared_error\n",
        "import numpy as np\n",
        "import optuna\n",
        "\n",
        "def optimize_rf(X_train, y_train, n_trials=30):\n",
        "    def objective(trial):\n",
        "        params = {\n",
        "            'n_estimators': trial.suggest_int('n_estimators', 50, 500),\n",
        "            'max_depth': trial.suggest_int('max_depth', 3, 20),\n",
        "            'min_samples_split': trial.suggest_int('min_samples_split', 2, 10),\n",
        "            'min_samples_leaf': trial.suggest_int('min_samples_leaf', 1, 5)\n",
        "        }\n",
        "        model = RandomForestRegressor(**params, random_state=42)\n",
        "        model.fit(X_train, y_train)\n",
        "        preds = model.predict(X_train)\n",
        "        rmse = np.sqrt(mean_squared_error(y_train, preds))\n",
        "        return rmse\n",
        "\n",
        "    study = optuna.create_study(direction='minimize')\n",
        "    study.optimize(objective, n_trials=n_trials)\n",
        "    return study.best_params\n",
        "\n",
        "rf_params = optimize_rf(X_train.values, y_train)\n",
        "print(\"Best Random Forest params:\", rf_params)"
      ],
      "metadata": {
        "colab": {
          "base_uri": "https://localhost:8080/"
        },
        "id": "y26M6Q3h8vzF",
        "outputId": "5cd081b5-d0d3-4a0d-b7b4-9a39ad259d0c"
      },
      "execution_count": 13,
      "outputs": [
        {
          "output_type": "stream",
          "name": "stderr",
          "text": [
            "[I 2025-09-30 14:08:07,331] A new study created in memory with name: no-name-339dbfbf-6ba8-4e71-9afc-aee6b5f7dbd8\n",
            "[I 2025-09-30 14:08:32,237] Trial 0 finished with value: 6.963128020166952 and parameters: {'n_estimators': 276, 'max_depth': 15, 'min_samples_split': 2, 'min_samples_leaf': 1}. Best is trial 0 with value: 6.963128020166952.\n",
            "[I 2025-09-30 14:08:45,043] Trial 1 finished with value: 40.26570955555705 and parameters: {'n_estimators': 385, 'max_depth': 5, 'min_samples_split': 5, 'min_samples_leaf': 3}. Best is trial 0 with value: 6.963128020166952.\n",
            "[I 2025-09-30 14:08:56,593] Trial 2 finished with value: 25.664607580025073 and parameters: {'n_estimators': 226, 'max_depth': 8, 'min_samples_split': 8, 'min_samples_leaf': 3}. Best is trial 0 with value: 6.963128020166952.\n",
            "[I 2025-09-30 14:09:04,303] Trial 3 finished with value: 16.313044196933475 and parameters: {'n_estimators': 117, 'max_depth': 11, 'min_samples_split': 2, 'min_samples_leaf': 5}. Best is trial 0 with value: 6.963128020166952.\n",
            "[I 2025-09-30 14:09:16,506] Trial 4 finished with value: 21.947464102154733 and parameters: {'n_estimators': 204, 'max_depth': 9, 'min_samples_split': 10, 'min_samples_leaf': 5}. Best is trial 0 with value: 6.963128020166952.\n",
            "[I 2025-09-30 14:09:56,457] Trial 5 finished with value: 8.08919031283728 and parameters: {'n_estimators': 500, 'max_depth': 15, 'min_samples_split': 6, 'min_samples_leaf': 1}. Best is trial 0 with value: 6.963128020166952.\n",
            "[I 2025-09-30 14:10:14,267] Trial 6 finished with value: 21.03397450285535 and parameters: {'n_estimators': 315, 'max_depth': 9, 'min_samples_split': 3, 'min_samples_leaf': 2}. Best is trial 0 with value: 6.963128020166952.\n",
            "[I 2025-09-30 14:10:22,662] Trial 7 finished with value: 40.27099161922282 and parameters: {'n_estimators': 250, 'max_depth': 5, 'min_samples_split': 7, 'min_samples_leaf': 2}. Best is trial 0 with value: 6.963128020166952.\n",
            "[I 2025-09-30 14:10:39,478] Trial 8 finished with value: 6.982013241042436 and parameters: {'n_estimators': 188, 'max_depth': 15, 'min_samples_split': 2, 'min_samples_leaf': 1}. Best is trial 0 with value: 6.963128020166952.\n",
            "[I 2025-09-30 14:10:43,049] Trial 9 finished with value: 54.488361837829196 and parameters: {'n_estimators': 153, 'max_depth': 3, 'min_samples_split': 9, 'min_samples_leaf': 2}. Best is trial 0 with value: 6.963128020166952.\n",
            "[I 2025-09-30 14:11:07,584] Trial 10 finished with value: 11.617491885493845 and parameters: {'n_estimators': 343, 'max_depth': 20, 'min_samples_split': 4, 'min_samples_leaf': 4}. Best is trial 0 with value: 6.963128020166952.\n",
            "[I 2025-09-30 14:11:14,742] Trial 11 finished with value: 6.845364592663686 and parameters: {'n_estimators': 82, 'max_depth': 16, 'min_samples_split': 2, 'min_samples_leaf': 1}. Best is trial 11 with value: 6.845364592663686.\n",
            "[I 2025-09-30 14:11:21,094] Trial 12 finished with value: 7.390509698260506 and parameters: {'n_estimators': 70, 'max_depth': 16, 'min_samples_split': 4, 'min_samples_leaf': 1}. Best is trial 11 with value: 6.845364592663686.\n",
            "[I 2025-09-30 14:12:02,316] Trial 13 finished with value: 6.367414550425345 and parameters: {'n_estimators': 433, 'max_depth': 18, 'min_samples_split': 2, 'min_samples_leaf': 1}. Best is trial 13 with value: 6.367414550425345.\n",
            "[I 2025-09-30 14:12:40,175] Trial 14 finished with value: 8.275623227796318 and parameters: {'n_estimators': 459, 'max_depth': 20, 'min_samples_split': 4, 'min_samples_leaf': 2}. Best is trial 13 with value: 6.367414550425345.\n",
            "[I 2025-09-30 14:13:18,024] Trial 15 finished with value: 6.657511519528022 and parameters: {'n_estimators': 419, 'max_depth': 17, 'min_samples_split': 3, 'min_samples_leaf': 1}. Best is trial 13 with value: 6.367414550425345.\n",
            "[I 2025-09-30 14:13:47,293] Trial 16 finished with value: 11.61732285520144 and parameters: {'n_estimators': 409, 'max_depth': 18, 'min_samples_split': 5, 'min_samples_leaf': 4}. Best is trial 13 with value: 6.367414550425345.\n",
            "[I 2025-09-30 14:14:20,037] Trial 17 finished with value: 10.033589599497917 and parameters: {'n_estimators': 428, 'max_depth': 13, 'min_samples_split': 3, 'min_samples_leaf': 2}. Best is trial 13 with value: 6.367414550425345.\n",
            "[I 2025-09-30 14:14:47,020] Trial 18 finished with value: 10.092479949044662 and parameters: {'n_estimators': 357, 'max_depth': 18, 'min_samples_split': 3, 'min_samples_leaf': 3}. Best is trial 13 with value: 6.367414550425345.\n",
            "[I 2025-09-30 14:15:22,923] Trial 19 finished with value: 10.998731915634075 and parameters: {'n_estimators': 487, 'max_depth': 12, 'min_samples_split': 5, 'min_samples_leaf': 1}. Best is trial 13 with value: 6.367414550425345.\n",
            "[I 2025-09-30 14:15:56,779] Trial 20 finished with value: 10.088416111433984 and parameters: {'n_estimators': 445, 'max_depth': 18, 'min_samples_split': 6, 'min_samples_leaf': 3}. Best is trial 13 with value: 6.367414550425345.\n",
            "[I 2025-09-30 14:16:24,066] Trial 21 finished with value: 6.444772671116666 and parameters: {'n_estimators': 291, 'max_depth': 17, 'min_samples_split': 2, 'min_samples_leaf': 1}. Best is trial 13 with value: 6.367414550425345.\n",
            "[I 2025-09-30 14:16:52,209] Trial 22 finished with value: 6.604498898233085 and parameters: {'n_estimators': 312, 'max_depth': 18, 'min_samples_split': 3, 'min_samples_leaf': 1}. Best is trial 13 with value: 6.367414550425345.\n",
            "[I 2025-09-30 14:17:17,340] Trial 23 finished with value: 8.303662382609964 and parameters: {'n_estimators': 304, 'max_depth': 20, 'min_samples_split': 2, 'min_samples_leaf': 2}. Best is trial 13 with value: 6.367414550425345.\n",
            "[I 2025-09-30 14:17:40,129] Trial 24 finished with value: 8.868429911414722 and parameters: {'n_estimators': 283, 'max_depth': 13, 'min_samples_split': 3, 'min_samples_leaf': 1}. Best is trial 13 with value: 6.367414550425345.\n",
            "[I 2025-09-30 14:18:10,212] Trial 25 finished with value: 8.275457406246222 and parameters: {'n_estimators': 368, 'max_depth': 19, 'min_samples_split': 4, 'min_samples_leaf': 2}. Best is trial 13 with value: 6.367414550425345.\n",
            "[I 2025-09-30 14:18:42,864] Trial 26 finished with value: 6.448969685088383 and parameters: {'n_estimators': 341, 'max_depth': 17, 'min_samples_split': 2, 'min_samples_leaf': 1}. Best is trial 13 with value: 6.367414550425345.\n",
            "[I 2025-09-30 14:19:06,762] Trial 27 finished with value: 12.05065397469817 and parameters: {'n_estimators': 337, 'max_depth': 14, 'min_samples_split': 2, 'min_samples_leaf': 4}. Best is trial 13 with value: 6.367414550425345.\n",
            "[I 2025-09-30 14:19:38,875] Trial 28 finished with value: 8.338959194676203 and parameters: {'n_estimators': 395, 'max_depth': 17, 'min_samples_split': 4, 'min_samples_leaf': 2}. Best is trial 13 with value: 6.367414550425345.\n",
            "[I 2025-09-30 14:20:02,713] Trial 29 finished with value: 6.609906406622675 and parameters: {'n_estimators': 259, 'max_depth': 16, 'min_samples_split': 2, 'min_samples_leaf': 1}. Best is trial 13 with value: 6.367414550425345.\n"
          ]
        },
        {
          "output_type": "stream",
          "name": "stdout",
          "text": [
            "Best Random Forest params: {'n_estimators': 433, 'max_depth': 18, 'min_samples_split': 2, 'min_samples_leaf': 1}\n"
          ]
        }
      ]
    },
    {
      "cell_type": "code",
      "source": [
        "from sklearn.ensemble import RandomForestRegressor\n",
        "from sklearn.metrics import mean_squared_error\n",
        "import numpy as np\n",
        "import optuna\n",
        "\n",
        "def optimize_rf(X_train, y_train, n_trials=30):\n",
        "    def objective(trial):\n",
        "        params = {\n",
        "            'n_estimators': trial.suggest_int('n_estimators', 50, 500),\n",
        "            'max_depth': trial.suggest_int('max_depth', 3, 20),\n",
        "            'min_samples_split': trial.suggest_int('min_samples_split', 2, 10),\n",
        "            'min_samples_leaf': trial.suggest_int('min_samples_leaf', 1, 5)\n",
        "        }\n",
        "        model = RandomForestRegressor(**params, random_state=42)\n",
        "        model.fit(X_train, y_train)\n",
        "        preds = model.predict(X_train)\n",
        "        rmse = np.sqrt(mean_squared_error(y_train, preds))\n",
        "        return rmse\n",
        "\n",
        "    study = optuna.create_study(direction='minimize')\n",
        "    study.optimize(objective, n_trials=n_trials)\n",
        "    return study.best_params\n",
        "\n",
        "rf_params = optimize_rf(X_train.values, y_train)\n",
        "print(\"Best Random Forest params:\", rf_params)"
      ],
      "metadata": {
        "colab": {
          "base_uri": "https://localhost:8080/"
        },
        "id": "jyx5pz_nFvq7",
        "outputId": "99abbd1e-d26a-42aa-fd38-56f6e2241ca9"
      },
      "execution_count": 15,
      "outputs": [
        {
          "output_type": "stream",
          "name": "stderr",
          "text": [
            "[I 2025-09-30 14:47:15,574] A new study created in memory with name: no-name-4fb90d7a-de72-44b5-a1bd-38d138182c93\n",
            "[I 2025-09-30 14:47:36,003] Trial 0 finished with value: 16.14026240646946 and parameters: {'n_estimators': 317, 'max_depth': 11, 'min_samples_split': 6, 'min_samples_leaf': 5}. Best is trial 0 with value: 16.14026240646946.\n",
            "[I 2025-09-30 14:47:40,734] Trial 1 finished with value: 45.022376474227435 and parameters: {'n_estimators': 184, 'max_depth': 4, 'min_samples_split': 9, 'min_samples_leaf': 4}. Best is trial 0 with value: 16.14026240646946.\n",
            "[I 2025-09-30 14:48:00,835] Trial 2 finished with value: 8.35325962886464 and parameters: {'n_estimators': 242, 'max_depth': 17, 'min_samples_split': 4, 'min_samples_leaf': 2}. Best is trial 2 with value: 8.35325962886464.\n",
            "[I 2025-09-30 14:48:03,629] Trial 3 finished with value: 54.71204590385465 and parameters: {'n_estimators': 139, 'max_depth': 3, 'min_samples_split': 4, 'min_samples_leaf': 5}. Best is trial 2 with value: 8.35325962886464.\n",
            "[I 2025-09-30 14:48:04,983] Trial 4 finished with value: 54.667492747319194 and parameters: {'n_estimators': 67, 'max_depth': 3, 'min_samples_split': 5, 'min_samples_leaf': 1}. Best is trial 2 with value: 8.35325962886464.\n",
            "[I 2025-09-30 14:48:34,031] Trial 5 finished with value: 12.17689456170698 and parameters: {'n_estimators': 411, 'max_depth': 12, 'min_samples_split': 10, 'min_samples_leaf': 1}. Best is trial 2 with value: 8.35325962886464.\n",
            "[I 2025-09-30 14:48:48,728] Trial 6 finished with value: 35.37367153677023 and parameters: {'n_estimators': 376, 'max_depth': 6, 'min_samples_split': 5, 'min_samples_leaf': 5}. Best is trial 2 with value: 8.35325962886464.\n",
            "[I 2025-09-30 14:48:58,855] Trial 7 finished with value: 15.491849654963564 and parameters: {'n_estimators': 159, 'max_depth': 11, 'min_samples_split': 5, 'min_samples_leaf': 4}. Best is trial 2 with value: 8.35325962886464.\n",
            "[I 2025-09-30 14:49:23,992] Trial 8 finished with value: 12.957303514509134 and parameters: {'n_estimators': 367, 'max_depth': 18, 'min_samples_split': 5, 'min_samples_leaf': 5}. Best is trial 2 with value: 8.35325962886464.\n",
            "[I 2025-09-30 14:49:50,280] Trial 9 finished with value: 10.902646014202734 and parameters: {'n_estimators': 358, 'max_depth': 14, 'min_samples_split': 7, 'min_samples_leaf': 3}. Best is trial 2 with value: 8.35325962886464.\n",
            "[I 2025-09-30 14:50:31,026] Trial 10 finished with value: 8.260201715914942 and parameters: {'n_estimators': 497, 'max_depth': 19, 'min_samples_split': 2, 'min_samples_leaf': 2}. Best is trial 10 with value: 8.260201715914942.\n",
            "[I 2025-09-30 14:51:10,870] Trial 11 finished with value: 8.26606877450098 and parameters: {'n_estimators': 486, 'max_depth': 20, 'min_samples_split': 2, 'min_samples_leaf': 2}. Best is trial 10 with value: 8.260201715914942.\n",
            "[I 2025-09-30 14:51:51,582] Trial 12 finished with value: 8.262575328562342 and parameters: {'n_estimators': 498, 'max_depth': 20, 'min_samples_split': 2, 'min_samples_leaf': 2}. Best is trial 10 with value: 8.260201715914942.\n",
            "[I 2025-09-30 14:52:31,954] Trial 13 finished with value: 8.267007682097368 and parameters: {'n_estimators': 489, 'max_depth': 20, 'min_samples_split': 2, 'min_samples_leaf': 2}. Best is trial 10 with value: 8.260201715914942.\n",
            "[I 2025-09-30 14:53:04,737] Trial 14 finished with value: 10.182378277178895 and parameters: {'n_estimators': 439, 'max_depth': 16, 'min_samples_split': 3, 'min_samples_leaf': 3}. Best is trial 10 with value: 8.260201715914942.\n",
            "[I 2025-09-30 14:53:44,418] Trial 15 finished with value: 8.647165707377921 and parameters: {'n_estimators': 497, 'max_depth': 15, 'min_samples_split': 2, 'min_samples_leaf': 2}. Best is trial 10 with value: 8.260201715914942.\n",
            "[I 2025-09-30 14:54:06,733] Trial 16 finished with value: 25.657523277682735 and parameters: {'n_estimators': 436, 'max_depth': 8, 'min_samples_split': 3, 'min_samples_leaf': 3}. Best is trial 10 with value: 8.260201715914942.\n",
            "[I 2025-09-30 14:54:28,910] Trial 17 finished with value: 8.4391520245394 and parameters: {'n_estimators': 279, 'max_depth': 19, 'min_samples_split': 8, 'min_samples_leaf': 1}. Best is trial 10 with value: 8.260201715914942.\n",
            "[I 2025-09-30 14:55:02,829] Trial 18 finished with value: 10.021138207696364 and parameters: {'n_estimators': 446, 'max_depth': 13, 'min_samples_split': 3, 'min_samples_leaf': 2}. Best is trial 10 with value: 8.260201715914942.\n",
            "[I 2025-09-30 14:55:26,070] Trial 19 finished with value: 10.141858575455881 and parameters: {'n_estimators': 314, 'max_depth': 17, 'min_samples_split': 4, 'min_samples_leaf': 3}. Best is trial 10 with value: 8.260201715914942.\n",
            "[I 2025-09-30 14:55:48,703] Trial 20 finished with value: 21.63516969630014 and parameters: {'n_estimators': 406, 'max_depth': 9, 'min_samples_split': 7, 'min_samples_leaf': 4}. Best is trial 10 with value: 8.260201715914942.\n",
            "[I 2025-09-30 14:56:29,499] Trial 21 finished with value: 8.262069252897144 and parameters: {'n_estimators': 495, 'max_depth': 20, 'min_samples_split': 2, 'min_samples_leaf': 2}. Best is trial 10 with value: 8.260201715914942.\n",
            "[I 2025-09-30 14:57:07,428] Trial 22 finished with value: 8.295029778007333 and parameters: {'n_estimators': 463, 'max_depth': 18, 'min_samples_split': 2, 'min_samples_leaf': 2}. Best is trial 10 with value: 8.260201715914942.\n",
            "[I 2025-09-30 14:57:52,709] Trial 23 finished with value: 6.517419738511416 and parameters: {'n_estimators': 500, 'max_depth': 20, 'min_samples_split': 3, 'min_samples_leaf': 1}. Best is trial 23 with value: 6.517419738511416.\n",
            "[I 2025-09-30 14:58:30,032] Trial 24 finished with value: 6.580868518883323 and parameters: {'n_estimators': 413, 'max_depth': 18, 'min_samples_split': 3, 'min_samples_leaf': 1}. Best is trial 23 with value: 6.517419738511416.\n",
            "[I 2025-09-30 14:59:06,136] Trial 25 finished with value: 6.817245740533661 and parameters: {'n_estimators': 405, 'max_depth': 16, 'min_samples_split': 3, 'min_samples_leaf': 1}. Best is trial 23 with value: 6.517419738511416.\n",
            "[I 2025-09-30 14:59:41,025] Trial 26 finished with value: 7.125873113864857 and parameters: {'n_estimators': 399, 'max_depth': 15, 'min_samples_split': 3, 'min_samples_leaf': 1}. Best is trial 23 with value: 6.517419738511416.\n",
            "[I 2025-09-30 15:00:07,213] Trial 27 finished with value: 6.948146277669748 and parameters: {'n_estimators': 303, 'max_depth': 18, 'min_samples_split': 4, 'min_samples_leaf': 1}. Best is trial 23 with value: 6.517419738511416.\n",
            "[I 2025-09-30 15:00:35,071] Trial 28 finished with value: 7.850166340520025 and parameters: {'n_estimators': 345, 'max_depth': 16, 'min_samples_split': 6, 'min_samples_leaf': 1}. Best is trial 23 with value: 6.517419738511416.\n",
            "[I 2025-09-30 15:00:52,934] Trial 29 finished with value: 7.885855032630817 and parameters: {'n_estimators': 216, 'max_depth': 16, 'min_samples_split': 6, 'min_samples_leaf': 1}. Best is trial 23 with value: 6.517419738511416.\n"
          ]
        },
        {
          "output_type": "stream",
          "name": "stdout",
          "text": [
            "Best Random Forest params: {'n_estimators': 500, 'max_depth': 20, 'min_samples_split': 3, 'min_samples_leaf': 1}\n"
          ]
        }
      ]
    },
    {
      "cell_type": "code",
      "source": [
        "from sklearn.ensemble import GradientBoostingRegressor\n",
        "from sklearn.metrics import mean_squared_error\n",
        "import numpy as np\n",
        "import optuna\n",
        "\n",
        "def optimize_gb(X_train, y_train, n_trials=30):\n",
        "    def objective(trial):\n",
        "        params = {\n",
        "            'n_estimators': trial.suggest_int('n_estimators', 50, 500),\n",
        "            'max_depth': trial.suggest_int('max_depth', 3, 12),\n",
        "            'learning_rate': trial.suggest_float('learning_rate', 0.01, 0.3),\n",
        "            'subsample': trial.suggest_float('subsample', 0.6, 1.0)\n",
        "        }\n",
        "        model = GradientBoostingRegressor(**params, random_state=42)\n",
        "        model.fit(X_train, y_train)\n",
        "        preds = model.predict(X_train)\n",
        "        rmse = np.sqrt(mean_squared_error(y_train, preds))\n",
        "        return rmse\n",
        "\n",
        "    study = optuna.create_study(direction='minimize')\n",
        "    study.optimize(objective, n_trials=n_trials)\n",
        "    return study.best_params\n",
        "\n",
        "gb_params = optimize_gb(X_train.values, y_train)\n",
        "print(\"Best Gradient Boosting params:\", gb_params)"
      ],
      "metadata": {
        "colab": {
          "base_uri": "https://localhost:8080/"
        },
        "id": "HDK8DnobJFo5",
        "outputId": "2e2ad6ab-a970-4cbf-9ece-dd5f301280bc"
      },
      "execution_count": 17,
      "outputs": [
        {
          "output_type": "stream",
          "name": "stderr",
          "text": [
            "[I 2025-09-30 15:02:22,346] A new study created in memory with name: no-name-1c03f06c-ee43-4140-9604-56ad4e18a09f\n",
            "[I 2025-09-30 15:02:31,004] Trial 0 finished with value: 12.824787990161388 and parameters: {'n_estimators': 292, 'max_depth': 4, 'learning_rate': 0.2969199062119607, 'subsample': 0.6437593456347144}. Best is trial 0 with value: 12.824787990161388.\n",
            "[I 2025-09-30 15:02:37,024] Trial 1 finished with value: 20.577079942724225 and parameters: {'n_estimators': 276, 'max_depth': 3, 'learning_rate': 0.2866014890519411, 'subsample': 0.6769916732272879}. Best is trial 0 with value: 12.824787990161388.\n",
            "[I 2025-09-30 15:02:48,788] Trial 2 finished with value: 24.245912200168526 and parameters: {'n_estimators': 309, 'max_depth': 4, 'learning_rate': 0.06121340644725708, 'subsample': 0.9057017825637231}. Best is trial 0 with value: 12.824787990161388.\n",
            "[I 2025-09-30 15:02:53,310] Trial 3 finished with value: 7.449377343163437 and parameters: {'n_estimators': 75, 'max_depth': 8, 'learning_rate': 0.17941901855701683, 'subsample': 0.7845602570498701}. Best is trial 3 with value: 7.449377343163437.\n",
            "[I 2025-09-30 15:03:00,631] Trial 4 finished with value: 15.813185626183712 and parameters: {'n_estimators': 208, 'max_depth': 4, 'learning_rate': 0.25859117562107675, 'subsample': 0.7833998499189724}. Best is trial 3 with value: 7.449377343163437.\n",
            "[I 2025-09-30 15:03:05,739] Trial 5 finished with value: 6.577420041721847 and parameters: {'n_estimators': 94, 'max_depth': 8, 'learning_rate': 0.23678873129301564, 'subsample': 0.6402409986614973}. Best is trial 5 with value: 6.577420041721847.\n",
            "[I 2025-09-30 15:03:12,048] Trial 6 finished with value: 0.8848239923047806 and parameters: {'n_estimators': 57, 'max_depth': 12, 'learning_rate': 0.1648556648312407, 'subsample': 0.8981474924567836}. Best is trial 6 with value: 0.8848239923047806.\n",
            "[I 2025-09-30 15:03:16,016] Trial 7 finished with value: 16.215015760562395 and parameters: {'n_estimators': 85, 'max_depth': 5, 'learning_rate': 0.28768659860921747, 'subsample': 0.9602036445703797}. Best is trial 6 with value: 0.8848239923047806.\n",
            "[I 2025-09-30 15:03:24,790] Trial 8 finished with value: 17.84617575308129 and parameters: {'n_estimators': 134, 'max_depth': 7, 'learning_rate': 0.0404144824942209, 'subsample': 0.9227723987705038}. Best is trial 6 with value: 0.8848239923047806.\n",
            "[I 2025-09-30 15:03:32,433] Trial 9 finished with value: 10.447743934859957 and parameters: {'n_estimators': 192, 'max_depth': 5, 'learning_rate': 0.2876706563298974, 'subsample': 0.7511599429886516}. Best is trial 6 with value: 0.8848239923047806.\n",
            "[I 2025-09-30 15:04:12,651] Trial 10 finished with value: 0.16169622149997612 and parameters: {'n_estimators': 387, 'max_depth': 12, 'learning_rate': 0.11770120667524864, 'subsample': 0.8624637993102994}. Best is trial 10 with value: 0.16169622149997612.\n",
            "[I 2025-09-30 15:04:57,384] Trial 11 finished with value: 0.14092634523928313 and parameters: {'n_estimators': 432, 'max_depth': 12, 'learning_rate': 0.11489792260361625, 'subsample': 0.8645624061781936}. Best is trial 11 with value: 0.14092634523928313.\n",
            "[I 2025-09-30 15:05:41,476] Trial 12 finished with value: 0.16734795288239815 and parameters: {'n_estimators': 436, 'max_depth': 12, 'learning_rate': 0.10331047945553871, 'subsample': 0.8370164219967587}. Best is trial 11 with value: 0.14092634523928313.\n",
            "[I 2025-09-30 15:06:20,328] Trial 13 finished with value: 0.6338298467405848 and parameters: {'n_estimators': 459, 'max_depth': 10, 'learning_rate': 0.11297915961790231, 'subsample': 0.8419557115501564}. Best is trial 11 with value: 0.14092634523928313.\n",
            "[I 2025-09-30 15:06:53,945] Trial 14 finished with value: 0.7640016102327115 and parameters: {'n_estimators': 385, 'max_depth': 10, 'learning_rate': 0.11608531899095498, 'subsample': 0.8651832462985196}. Best is trial 11 with value: 0.14092634523928313.\n",
            "[I 2025-09-30 15:07:30,344] Trial 15 finished with value: 0.32868600321103936 and parameters: {'n_estimators': 368, 'max_depth': 10, 'learning_rate': 0.20372017404250803, 'subsample': 0.9984513162874362}. Best is trial 11 with value: 0.14092634523928313.\n",
            "[I 2025-09-30 15:08:09,917] Trial 16 finished with value: 3.614589331285777 and parameters: {'n_estimators': 499, 'max_depth': 11, 'learning_rate': 0.010836456708965034, 'subsample': 0.7309652757934724}. Best is trial 11 with value: 0.14092634523928313.\n",
            "[I 2025-09-30 15:08:44,313] Trial 17 finished with value: 0.17027163931450642 and parameters: {'n_estimators': 352, 'max_depth': 12, 'learning_rate': 0.1367360202562786, 'subsample': 0.8155838442110503}. Best is trial 11 with value: 0.14092634523928313.\n",
            "[I 2025-09-30 15:09:19,261] Trial 18 finished with value: 1.9815431047867904 and parameters: {'n_estimators': 439, 'max_depth': 9, 'learning_rate': 0.07793320165472097, 'subsample': 0.8811579418055986}. Best is trial 11 with value: 0.14092634523928313.\n",
            "[I 2025-09-30 15:09:44,606] Trial 19 finished with value: 0.8717768662145966 and parameters: {'n_estimators': 389, 'max_depth': 9, 'learning_rate': 0.19753742975018324, 'subsample': 0.7070553637781003}. Best is trial 11 with value: 0.14092634523928313.\n",
            "[I 2025-09-30 15:10:18,092] Trial 20 finished with value: 0.3106829290937855 and parameters: {'n_estimators': 329, 'max_depth': 11, 'learning_rate': 0.14052302631771169, 'subsample': 0.9332388029398052}. Best is trial 11 with value: 0.14092634523928313.\n",
            "[I 2025-09-30 15:11:01,307] Trial 21 finished with value: 0.1836734294174372 and parameters: {'n_estimators': 427, 'max_depth': 12, 'learning_rate': 0.09496487826646326, 'subsample': 0.850587788879965}. Best is trial 11 with value: 0.14092634523928313.\n",
            "[I 2025-09-30 15:11:46,618] Trial 22 finished with value: 0.2488113803149578 and parameters: {'n_estimators': 500, 'max_depth': 11, 'learning_rate': 0.11619859170366391, 'subsample': 0.8160558601140165}. Best is trial 11 with value: 0.14092634523928313.\n",
            "[I 2025-09-30 15:12:28,833] Trial 23 finished with value: 0.2124009493938152 and parameters: {'n_estimators': 428, 'max_depth': 12, 'learning_rate': 0.08411547016631682, 'subsample': 0.8302753191767613}. Best is trial 11 with value: 0.14092634523928313.\n",
            "[I 2025-09-30 15:13:08,053] Trial 24 finished with value: 0.9282594679350464 and parameters: {'n_estimators': 465, 'max_depth': 11, 'learning_rate': 0.04530069540249322, 'subsample': 0.7641701176614296}. Best is trial 11 with value: 0.14092634523928313.\n",
            "[I 2025-09-30 15:13:50,866] Trial 25 finished with value: 0.12308855102090646 and parameters: {'n_estimators': 408, 'max_depth': 12, 'learning_rate': 0.1461312424381085, 'subsample': 0.8736377014399374}. Best is trial 25 with value: 0.12308855102090646.\n",
            "[I 2025-09-30 15:14:25,294] Trial 26 finished with value: 1.0849044227696825 and parameters: {'n_estimators': 398, 'max_depth': 9, 'learning_rate': 0.14547071799239858, 'subsample': 0.9611017604890715}. Best is trial 25 with value: 0.12308855102090646.\n",
            "[I 2025-09-30 15:14:48,146] Trial 27 finished with value: 0.42108264434916776 and parameters: {'n_estimators': 238, 'max_depth': 11, 'learning_rate': 0.17263423843002917, 'subsample': 0.8843815209813043}. Best is trial 25 with value: 0.12308855102090646.\n",
            "[I 2025-09-30 15:15:09,754] Trial 28 finished with value: 1.0465499508556793 and parameters: {'n_estimators': 348, 'max_depth': 10, 'learning_rate': 0.12940049717370003, 'subsample': 0.6038132001549835}. Best is trial 25 with value: 0.12308855102090646.\n",
            "[I 2025-09-30 15:15:22,977] Trial 29 finished with value: 6.837422673238068 and parameters: {'n_estimators': 248, 'max_depth': 6, 'learning_rate': 0.20063862881423933, 'subsample': 0.869649336049729}. Best is trial 25 with value: 0.12308855102090646.\n"
          ]
        },
        {
          "output_type": "stream",
          "name": "stdout",
          "text": [
            "Best Gradient Boosting params: {'n_estimators': 408, 'max_depth': 12, 'learning_rate': 0.1461312424381085, 'subsample': 0.8736377014399374}\n"
          ]
        }
      ]
    },
    {
      "cell_type": "code",
      "source": [],
      "metadata": {
        "id": "5zVEzx9fMgAC"
      },
      "execution_count": null,
      "outputs": []
    },
    {
      "cell_type": "code",
      "source": [
        "from catboost import CatBoostRegressor\n",
        "from sklearn.metrics import mean_squared_error\n",
        "import numpy as np\n",
        "import optuna\n",
        "\n",
        "def optimize_catboost(X_train, y_train, n_trials=30):\n",
        "    def objective(trial):\n",
        "        params = {\n",
        "            'iterations': trial.suggest_int('iterations', 100, 500),\n",
        "            'depth': trial.suggest_int('depth', 3, 10),\n",
        "            'learning_rate': trial.suggest_float('learning_rate', 0.01, 0.3),\n",
        "            'l2_leaf_reg': trial.suggest_float('l2_leaf_reg', 1, 10)\n",
        "        }\n",
        "        model = CatBoostRegressor(**params, random_state=42, verbose=0)\n",
        "        model.fit(X_train, y_train)\n",
        "        preds = model.predict(X_train)\n",
        "        rmse = np.sqrt(mean_squared_error(y_train, preds))\n",
        "        return rmse\n",
        "\n",
        "    study = optuna.create_study(direction='minimize')\n",
        "    study.optimize(objective, n_trials=n_trials)\n",
        "    return study.best_params\n",
        "\n",
        "cat_params = optimize_catboost(X_train.values, y_train)\n",
        "print(\"Best CatBoost params:\", cat_params)"
      ],
      "metadata": {
        "colab": {
          "base_uri": "https://localhost:8080/"
        },
        "id": "YjR7H9djMbmw",
        "outputId": "f85e3dcd-41d2-4bfb-9b0e-b42f579d1fa3"
      },
      "execution_count": 21,
      "outputs": [
        {
          "output_type": "stream",
          "name": "stderr",
          "text": [
            "[I 2025-09-30 15:17:08,213] A new study created in memory with name: no-name-2c2fb2d5-a604-417d-9eb2-eabcee7b7453\n",
            "[I 2025-09-30 15:17:21,588] Trial 0 finished with value: 8.616042236949333 and parameters: {'iterations': 462, 'depth': 10, 'learning_rate': 0.29550694026417756, 'l2_leaf_reg': 8.482531678586367}. Best is trial 0 with value: 8.616042236949333.\n",
            "[I 2025-09-30 15:17:22,055] Trial 1 finished with value: 29.523105340839912 and parameters: {'iterations': 252, 'depth': 3, 'learning_rate': 0.24295227899660063, 'l2_leaf_reg': 4.719686404379984}. Best is trial 0 with value: 8.616042236949333.\n",
            "[I 2025-09-30 15:17:22,490] Trial 2 finished with value: 26.452103134191223 and parameters: {'iterations': 142, 'depth': 5, 'learning_rate': 0.24429068107785779, 'l2_leaf_reg': 5.4011312188303044}. Best is trial 0 with value: 8.616042236949333.\n",
            "[I 2025-09-30 15:17:30,423] Trial 3 finished with value: 18.667653234882383 and parameters: {'iterations': 257, 'depth': 10, 'learning_rate': 0.08964256509924737, 'l2_leaf_reg': 2.476099497230509}. Best is trial 0 with value: 8.616042236949333.\n",
            "[I 2025-09-30 15:17:31,035] Trial 4 finished with value: 25.297569691617085 and parameters: {'iterations': 258, 'depth': 4, 'learning_rate': 0.23012021228767407, 'l2_leaf_reg': 6.253732458798897}. Best is trial 0 with value: 8.616042236949333.\n",
            "[I 2025-09-30 15:17:42,497] Trial 5 finished with value: 13.16773471925179 and parameters: {'iterations': 392, 'depth': 10, 'learning_rate': 0.14871201011832663, 'l2_leaf_reg': 8.690855516393224}. Best is trial 0 with value: 8.616042236949333.\n",
            "[I 2025-09-30 15:17:43,266] Trial 6 finished with value: 30.34229949574013 and parameters: {'iterations': 340, 'depth': 4, 'learning_rate': 0.09582707602209156, 'l2_leaf_reg': 9.279556424722182}. Best is trial 0 with value: 8.616042236949333.\n",
            "[I 2025-09-30 15:17:45,719] Trial 7 finished with value: 25.306100748681203 and parameters: {'iterations': 150, 'depth': 9, 'learning_rate': 0.11141546820525242, 'l2_leaf_reg': 5.143140647513778}. Best is trial 0 with value: 8.616042236949333.\n",
            "[I 2025-09-30 15:17:46,373] Trial 8 finished with value: 28.645614355077264 and parameters: {'iterations': 371, 'depth': 3, 'learning_rate': 0.17876092306298158, 'l2_leaf_reg': 5.828946615355781}. Best is trial 0 with value: 8.616042236949333.\n",
            "[I 2025-09-30 15:17:47,512] Trial 9 finished with value: 26.97367302885543 and parameters: {'iterations': 412, 'depth': 5, 'learning_rate': 0.07789518039399929, 'l2_leaf_reg': 7.032567339427622}. Best is trial 0 with value: 8.616042236949333.\n",
            "[I 2025-09-30 15:17:51,852] Trial 10 finished with value: 39.460993668756494 and parameters: {'iterations': 500, 'depth': 8, 'learning_rate': 0.010636571267451655, 'l2_leaf_reg': 8.037584900412941}. Best is trial 0 with value: 8.616042236949333.\n",
            "[I 2025-09-30 15:17:57,300] Trial 11 finished with value: 13.884569063118267 and parameters: {'iterations': 470, 'depth': 8, 'learning_rate': 0.1697323310871357, 'l2_leaf_reg': 9.847594245623505}. Best is trial 0 with value: 8.616042236949333.\n",
            "[I 2025-09-30 15:18:10,012] Trial 12 finished with value: 9.00887812209664 and parameters: {'iterations': 433, 'depth': 10, 'learning_rate': 0.2858748285778063, 'l2_leaf_reg': 8.15196028122488}. Best is trial 0 with value: 8.616042236949333.\n",
            "[I 2025-09-30 15:18:12,432] Trial 13 finished with value: 11.568144040609928 and parameters: {'iterations': 448, 'depth': 7, 'learning_rate': 0.2991341372034274, 'l2_leaf_reg': 7.5916716872639745}. Best is trial 0 with value: 8.616042236949333.\n",
            "[I 2025-09-30 15:18:21,046] Trial 14 finished with value: 7.825603910745731 and parameters: {'iterations': 435, 'depth': 9, 'learning_rate': 0.2935378021121826, 'l2_leaf_reg': 3.656601526323614}. Best is trial 14 with value: 7.825603910745731.\n",
            "[I 2025-09-30 15:18:23,920] Trial 15 finished with value: 12.49635564995837 and parameters: {'iterations': 330, 'depth': 8, 'learning_rate': 0.20827580330622647, 'l2_leaf_reg': 3.2379844800260473}. Best is trial 14 with value: 7.825603910745731.\n",
            "[I 2025-09-30 15:18:33,060] Trial 16 finished with value: 7.941931479572939 and parameters: {'iterations': 491, 'depth': 9, 'learning_rate': 0.27028530656199545, 'l2_leaf_reg': 4.024385151403536}. Best is trial 14 with value: 7.825603910745731.\n",
            "[I 2025-09-30 15:18:35,768] Trial 17 finished with value: 8.759682748396877 and parameters: {'iterations': 497, 'depth': 7, 'learning_rate': 0.26201470938341903, 'l2_leaf_reg': 1.0576444054537855}. Best is trial 14 with value: 7.825603910745731.\n",
            "[I 2025-09-30 15:18:41,849] Trial 18 finished with value: 10.768775577098216 and parameters: {'iterations': 372, 'depth': 9, 'learning_rate': 0.21286301869236773, 'l2_leaf_reg': 3.9201452327770583}. Best is trial 14 with value: 7.825603910745731.\n",
            "[I 2025-09-30 15:18:42,992] Trial 19 finished with value: 17.52541731135361 and parameters: {'iterations': 211, 'depth': 6, 'learning_rate': 0.27239782769703025, 'l2_leaf_reg': 2.053525282447513}. Best is trial 14 with value: 7.825603910745731.\n",
            "[I 2025-09-30 15:18:45,507] Trial 20 finished with value: 23.114907828683894 and parameters: {'iterations': 100, 'depth': 9, 'learning_rate': 0.2075821517317496, 'l2_leaf_reg': 4.1948099321691}. Best is trial 14 with value: 7.825603910745731.\n",
            "[I 2025-09-30 15:18:52,837] Trial 21 finished with value: 7.518806307204103 and parameters: {'iterations': 453, 'depth': 9, 'learning_rate': 0.2990058709227652, 'l2_leaf_reg': 3.1853562032273657}. Best is trial 21 with value: 7.518806307204103.\n",
            "[I 2025-09-30 15:19:00,763] Trial 22 finished with value: 8.340741629687916 and parameters: {'iterations': 424, 'depth': 9, 'learning_rate': 0.2587920414545957, 'l2_leaf_reg': 3.1282817445665283}. Best is trial 21 with value: 7.518806307204103.\n",
            "[I 2025-09-30 15:19:04,797] Trial 23 finished with value: 9.032941539380712 and parameters: {'iterations': 465, 'depth': 8, 'learning_rate': 0.27202946044276743, 'l2_leaf_reg': 3.5798076635246665}. Best is trial 21 with value: 7.518806307204103.\n",
            "[I 2025-09-30 15:19:07,052] Trial 24 finished with value: 10.039834603055512 and parameters: {'iterations': 417, 'depth': 7, 'learning_rate': 0.29531438586871683, 'l2_leaf_reg': 2.1933399979822905}. Best is trial 21 with value: 7.518806307204103.\n",
            "[I 2025-09-30 15:19:16,288] Trial 25 finished with value: 8.668285183883146 and parameters: {'iterations': 500, 'depth': 9, 'learning_rate': 0.23400318556437372, 'l2_leaf_reg': 4.513637866489459}. Best is trial 21 with value: 7.518806307204103.\n",
            "[I 2025-09-30 15:19:18,976] Trial 26 finished with value: 10.899528406643967 and parameters: {'iterations': 312, 'depth': 8, 'learning_rate': 0.27354628552846066, 'l2_leaf_reg': 2.7426777350492495}. Best is trial 21 with value: 7.518806307204103.\n",
            "[I 2025-09-30 15:19:20,948] Trial 27 finished with value: 13.07284254535948 and parameters: {'iterations': 388, 'depth': 6, 'learning_rate': 0.2506873929661769, 'l2_leaf_reg': 1.3989755729109166}. Best is trial 21 with value: 7.518806307204103.\n",
            "[I 2025-09-30 15:19:27,498] Trial 28 finished with value: 11.56959351470475 and parameters: {'iterations': 355, 'depth': 9, 'learning_rate': 0.19218562196126207, 'l2_leaf_reg': 3.8541341632009773}. Best is trial 21 with value: 7.518806307204103.\n",
            "[I 2025-09-30 15:19:41,092] Trial 29 finished with value: 8.029748540821725 and parameters: {'iterations': 467, 'depth': 10, 'learning_rate': 0.2794955480090401, 'l2_leaf_reg': 6.319348845415147}. Best is trial 21 with value: 7.518806307204103.\n"
          ]
        },
        {
          "output_type": "stream",
          "name": "stdout",
          "text": [
            "Best CatBoost params: {'iterations': 453, 'depth': 9, 'learning_rate': 0.2990058709227652, 'l2_leaf_reg': 3.1853562032273657}\n"
          ]
        }
      ]
    },
    {
      "cell_type": "code",
      "source": [
        "from sklearn.linear_model import Ridge\n",
        "from sklearn.metrics import mean_squared_error\n",
        "import numpy as np\n",
        "import optuna\n",
        "\n",
        "def optimize_ridge(X_train_scaled, y_train, n_trials=30):\n",
        "    def objective(trial):\n",
        "        alpha = trial.suggest_float('alpha', 0.01, 10.0)\n",
        "        model = Ridge(alpha=alpha, random_state=42)\n",
        "        model.fit(X_train_scaled, y_train)\n",
        "        preds = model.predict(X_train_scaled)\n",
        "        rmse = np.sqrt(mean_squared_error(y_train, preds))\n",
        "        return rmse\n",
        "\n",
        "    study = optuna.create_study(direction='minimize')\n",
        "    study.optimize(objective, n_trials=n_trials)\n",
        "    return study.best_params\n",
        "\n",
        "ridge_params = optimize_ridge(X_train_scaled, y_train)\n",
        "print(\"Best Ridge params:\", ridge_params)"
      ],
      "metadata": {
        "colab": {
          "base_uri": "https://localhost:8080/"
        },
        "id": "G3GUIK7cNYfa",
        "outputId": "10539a47-c262-44a2-96d2-d5ff94e440f9"
      },
      "execution_count": 23,
      "outputs": [
        {
          "output_type": "stream",
          "name": "stderr",
          "text": [
            "[I 2025-09-30 15:20:22,193] A new study created in memory with name: no-name-a5f3578f-d5e1-478e-be4d-b9bb448107b8\n",
            "[I 2025-09-30 15:20:22,202] Trial 0 finished with value: 46.721464810919095 and parameters: {'alpha': 5.753762635098745}. Best is trial 0 with value: 46.721464810919095.\n",
            "[I 2025-09-30 15:20:22,208] Trial 1 finished with value: 46.71788809088803 and parameters: {'alpha': 4.021942852893118}. Best is trial 1 with value: 46.71788809088803.\n",
            "[I 2025-09-30 15:20:22,213] Trial 2 finished with value: 46.717884161762456 and parameters: {'alpha': 4.0197471980394806}. Best is trial 2 with value: 46.717884161762456.\n",
            "[I 2025-09-30 15:20:22,218] Trial 3 finished with value: 46.73097226120818 and parameters: {'alpha': 9.219225618607977}. Best is trial 2 with value: 46.717884161762456.\n",
            "[I 2025-09-30 15:20:22,223] Trial 4 finished with value: 46.716703074361405 and parameters: {'alpha': 3.310207041905016}. Best is trial 4 with value: 46.716703074361405.\n",
            "[I 2025-09-30 15:20:22,228] Trial 5 finished with value: 46.724912520903445 and parameters: {'alpha': 7.131225557876026}. Best is trial 4 with value: 46.716703074361405.\n",
            "[I 2025-09-30 15:20:22,233] Trial 6 finished with value: 46.716677851341096 and parameters: {'alpha': 3.293756537015847}. Best is trial 6 with value: 46.716677851341096.\n",
            "[I 2025-09-30 15:20:22,238] Trial 7 finished with value: 46.7172467639182 and parameters: {'alpha': 3.65028136292697}. Best is trial 6 with value: 46.716677851341096.\n",
            "[I 2025-09-30 15:20:22,242] Trial 8 finished with value: 46.72713530717345 and parameters: {'alpha': 7.934781039370414}. Best is trial 6 with value: 46.716677851341096.\n",
            "[I 2025-09-30 15:20:22,247] Trial 9 finished with value: 46.71437092149054 and parameters: {'alpha': 1.2030656490129423}. Best is trial 9 with value: 46.71437092149054.\n",
            "[I 2025-09-30 15:20:22,255] Trial 10 finished with value: 46.71398554504164 and parameters: {'alpha': 0.16673354658920503}. Best is trial 10 with value: 46.71398554504164.\n",
            "[I 2025-09-30 15:20:22,262] Trial 11 finished with value: 46.713985658190985 and parameters: {'alpha': 0.16792652043817813}. Best is trial 10 with value: 46.71398554504164.\n",
            "[I 2025-09-30 15:20:22,269] Trial 12 finished with value: 46.714170450634526 and parameters: {'alpha': 0.8356255806842376}. Best is trial 10 with value: 46.71398554504164.\n",
            "[I 2025-09-30 15:20:22,276] Trial 13 finished with value: 46.71401192577973 and parameters: {'alpha': 0.3485958946999693}. Best is trial 10 with value: 46.71398554504164.\n",
            "[I 2025-09-30 15:20:22,283] Trial 14 finished with value: 46.7148706099474 and parameters: {'alpha': 1.8377420866307135}. Best is trial 10 with value: 46.71398554504164.\n",
            "[I 2025-09-30 15:20:22,290] Trial 15 finished with value: 46.71513578469662 and parameters: {'alpha': 2.104764585159333}. Best is trial 10 with value: 46.71398554504164.\n",
            "[I 2025-09-30 15:20:22,297] Trial 16 finished with value: 46.71402824264088 and parameters: {'alpha': 0.42420828000429456}. Best is trial 10 with value: 46.71398554504164.\n",
            "[I 2025-09-30 15:20:22,304] Trial 17 finished with value: 46.71516501524721 and parameters: {'alpha': 2.1324017607063075}. Best is trial 10 with value: 46.71398554504164.\n",
            "[I 2025-09-30 15:20:22,313] Trial 18 finished with value: 46.720607216793056 and parameters: {'alpha': 5.375828346814059}. Best is trial 10 with value: 46.71398554504164.\n",
            "[I 2025-09-30 15:20:22,320] Trial 19 finished with value: 46.71399238132498 and parameters: {'alpha': 0.22797601913249213}. Best is trial 10 with value: 46.71398554504164.\n",
            "[I 2025-09-30 15:20:22,327] Trial 20 finished with value: 46.71562385860958 and parameters: {'alpha': 2.531911309921388}. Best is trial 10 with value: 46.71398554504164.\n",
            "[I 2025-09-30 15:20:22,335] Trial 21 finished with value: 46.713980220973376 and parameters: {'alpha': 0.09516575712459324}. Best is trial 21 with value: 46.713980220973376.\n",
            "[I 2025-09-30 15:20:22,343] Trial 22 finished with value: 46.71450019675753 and parameters: {'alpha': 1.3924741199659347}. Best is trial 21 with value: 46.713980220973376.\n",
            "[I 2025-09-30 15:20:22,350] Trial 23 finished with value: 46.71397822363628 and parameters: {'alpha': 0.04531961182491688}. Best is trial 23 with value: 46.71397822363628.\n",
            "[I 2025-09-30 15:20:22,357] Trial 24 finished with value: 46.71441436285171 and parameters: {'alpha': 1.2696035986195195}. Best is trial 23 with value: 46.71397822363628.\n",
            "[I 2025-09-30 15:20:22,363] Trial 25 finished with value: 46.715739461036925 and parameters: {'alpha': 2.6243292452868987}. Best is trial 23 with value: 46.71397822363628.\n",
            "[I 2025-09-30 15:20:22,370] Trial 26 finished with value: 46.71397795606578 and parameters: {'alpha': 0.033435008620146256}. Best is trial 26 with value: 46.71397795606578.\n",
            "[I 2025-09-30 15:20:22,378] Trial 27 finished with value: 46.72237620141423 and parameters: {'alpha': 6.137581185958636}. Best is trial 26 with value: 46.71397795606578.\n",
            "[I 2025-09-30 15:20:22,385] Trial 28 finished with value: 46.719119790222166 and parameters: {'alpha': 4.67102422630359}. Best is trial 26 with value: 46.71397795606578.\n",
            "[I 2025-09-30 15:20:22,392] Trial 29 finished with value: 46.71420513919909 and parameters: {'alpha': 0.9091556491616659}. Best is trial 26 with value: 46.71397795606578.\n"
          ]
        },
        {
          "output_type": "stream",
          "name": "stdout",
          "text": [
            "Best Ridge params: {'alpha': 0.033435008620146256}\n"
          ]
        }
      ]
    },
    {
      "cell_type": "code",
      "source": [
        "from sklearn.linear_model import LinearRegression\n",
        "\n",
        "# Linear Regression has no hyperparameters to optimize\n",
        "linear_model = LinearRegression()\n",
        "linear_model.fit(X_train_scaled, y_train)\n",
        "print(\"Linear Regression model trained successfully\")"
      ],
      "metadata": {
        "colab": {
          "base_uri": "https://localhost:8080/"
        },
        "id": "yE3SaRGKNh_S",
        "outputId": "4d7a9ee1-5513-493e-c27a-71d70a31de52"
      },
      "execution_count": 24,
      "outputs": [
        {
          "output_type": "stream",
          "name": "stdout",
          "text": [
            "Linear Regression model trained successfully\n"
          ]
        }
      ]
    },
    {
      "cell_type": "code",
      "source": [
        "from sklearn.neighbors import KNeighborsRegressor\n",
        "from sklearn.metrics import mean_squared_error\n",
        "import numpy as np\n",
        "import optuna\n",
        "\n",
        "def optimize_knn(X_train_scaled, y_train, n_trials=30):\n",
        "    def objective(trial):\n",
        "        params = {\n",
        "            'n_neighbors': trial.suggest_int('n_neighbors', 2, 20),\n",
        "            'weights': trial.suggest_categorical('weights', ['uniform', 'distance']),\n",
        "            'p': trial.suggest_int('p', 1, 2)\n",
        "        }\n",
        "        model = KNeighborsRegressor(**params)\n",
        "        model.fit(X_train_scaled, y_train)\n",
        "        preds = model.predict(X_train_scaled)\n",
        "        rmse = np.sqrt(mean_squared_error(y_train, preds))\n",
        "        return rmse\n",
        "\n",
        "    study = optuna.create_study(direction='minimize')\n",
        "    study.optimize(objective, n_trials=n_trials)\n",
        "    return study.best_params\n",
        "\n",
        "knn_params = optimize_knn(X_train_scaled, y_train)\n",
        "print(\"Best KNN params:\", knn_params)"
      ],
      "metadata": {
        "colab": {
          "base_uri": "https://localhost:8080/"
        },
        "id": "FO6HgxlHNmdz",
        "outputId": "eb10e7da-5c28-4eb3-ef07-6d1151ed3cc5"
      },
      "execution_count": 26,
      "outputs": [
        {
          "output_type": "stream",
          "name": "stderr",
          "text": [
            "[I 2025-09-30 15:21:29,491] A new study created in memory with name: no-name-fbfcbbf5-4ff5-469e-85ce-620bd7ab5af4\n",
            "[I 2025-09-30 15:21:29,649] Trial 0 finished with value: 16.047426975856002 and parameters: {'n_neighbors': 8, 'weights': 'uniform', 'p': 1}. Best is trial 0 with value: 16.047426975856002.\n",
            "[I 2025-09-30 15:21:29,746] Trial 1 finished with value: 0.09042991813254031 and parameters: {'n_neighbors': 5, 'weights': 'distance', 'p': 2}. Best is trial 1 with value: 0.09042991813254031.\n",
            "[I 2025-09-30 15:21:29,978] Trial 2 finished with value: 0.09042991813254031 and parameters: {'n_neighbors': 17, 'weights': 'distance', 'p': 1}. Best is trial 1 with value: 0.09042991813254031.\n",
            "[I 2025-09-30 15:21:30,092] Trial 3 finished with value: 0.09042991813254031 and parameters: {'n_neighbors': 7, 'weights': 'distance', 'p': 2}. Best is trial 1 with value: 0.09042991813254031.\n",
            "[I 2025-09-30 15:21:30,241] Trial 4 finished with value: 23.903764633084 and parameters: {'n_neighbors': 18, 'weights': 'uniform', 'p': 2}. Best is trial 1 with value: 0.09042991813254031.\n",
            "[I 2025-09-30 15:21:30,306] Trial 5 finished with value: 9.580214174770603 and parameters: {'n_neighbors': 2, 'weights': 'uniform', 'p': 2}. Best is trial 1 with value: 0.09042991813254031.\n",
            "[I 2025-09-30 15:21:30,382] Trial 6 finished with value: 0.09042991813254031 and parameters: {'n_neighbors': 3, 'weights': 'distance', 'p': 2}. Best is trial 1 with value: 0.09042991813254031.\n",
            "[I 2025-09-30 15:21:30,450] Trial 7 finished with value: 9.580214174770603 and parameters: {'n_neighbors': 2, 'weights': 'uniform', 'p': 2}. Best is trial 1 with value: 0.09042991813254031.\n",
            "[I 2025-09-30 15:21:30,660] Trial 8 finished with value: 20.86215243577907 and parameters: {'n_neighbors': 15, 'weights': 'uniform', 'p': 1}. Best is trial 1 with value: 0.09042991813254031.\n",
            "[I 2025-09-30 15:21:30,869] Trial 9 finished with value: 22.573745725634915 and parameters: {'n_neighbors': 18, 'weights': 'uniform', 'p': 1}. Best is trial 1 with value: 0.09042991813254031.\n",
            "[I 2025-09-30 15:21:31,103] Trial 10 finished with value: 0.09042991813254031 and parameters: {'n_neighbors': 12, 'weights': 'distance', 'p': 2}. Best is trial 1 with value: 0.09042991813254031.\n",
            "[I 2025-09-30 15:21:31,407] Trial 11 finished with value: 0.09042991813254031 and parameters: {'n_neighbors': 12, 'weights': 'distance', 'p': 1}. Best is trial 1 with value: 0.09042991813254031.\n",
            "[I 2025-09-30 15:21:31,799] Trial 12 finished with value: 0.09042991813254031 and parameters: {'n_neighbors': 20, 'weights': 'distance', 'p': 1}. Best is trial 1 with value: 0.09042991813254031.\n",
            "[I 2025-09-30 15:21:32,033] Trial 13 finished with value: 0.09042991813254031 and parameters: {'n_neighbors': 7, 'weights': 'distance', 'p': 1}. Best is trial 1 with value: 0.09042991813254031.\n",
            "[I 2025-09-30 15:21:32,368] Trial 14 finished with value: 0.09042991813254031 and parameters: {'n_neighbors': 15, 'weights': 'distance', 'p': 1}. Best is trial 1 with value: 0.09042991813254031.\n",
            "[I 2025-09-30 15:21:32,523] Trial 15 finished with value: 0.09042991813254031 and parameters: {'n_neighbors': 5, 'weights': 'distance', 'p': 2}. Best is trial 1 with value: 0.09042991813254031.\n",
            "[I 2025-09-30 15:21:32,749] Trial 16 finished with value: 0.09042991813254031 and parameters: {'n_neighbors': 10, 'weights': 'distance', 'p': 2}. Best is trial 1 with value: 0.09042991813254031.\n",
            "[I 2025-09-30 15:21:33,104] Trial 17 finished with value: 0.09042991813254031 and parameters: {'n_neighbors': 15, 'weights': 'distance', 'p': 1}. Best is trial 1 with value: 0.09042991813254031.\n",
            "[I 2025-09-30 15:21:33,304] Trial 18 finished with value: 0.09042991813254031 and parameters: {'n_neighbors': 10, 'weights': 'distance', 'p': 2}. Best is trial 1 with value: 0.09042991813254031.\n",
            "[I 2025-09-30 15:21:33,498] Trial 19 finished with value: 0.09042991813254031 and parameters: {'n_neighbors': 5, 'weights': 'distance', 'p': 1}. Best is trial 1 with value: 0.09042991813254031.\n",
            "[I 2025-09-30 15:21:33,690] Trial 20 finished with value: 0.09042991813254031 and parameters: {'n_neighbors': 13, 'weights': 'distance', 'p': 1}. Best is trial 1 with value: 0.09042991813254031.\n",
            "[I 2025-09-30 15:21:33,816] Trial 21 finished with value: 0.09042991813254031 and parameters: {'n_neighbors': 7, 'weights': 'distance', 'p': 2}. Best is trial 1 with value: 0.09042991813254031.\n",
            "[I 2025-09-30 15:21:33,913] Trial 22 finished with value: 0.09042991813254031 and parameters: {'n_neighbors': 5, 'weights': 'distance', 'p': 2}. Best is trial 1 with value: 0.09042991813254031.\n",
            "[I 2025-09-30 15:21:34,032] Trial 23 finished with value: 0.09042991813254031 and parameters: {'n_neighbors': 8, 'weights': 'distance', 'p': 2}. Best is trial 1 with value: 0.09042991813254031.\n",
            "[I 2025-09-30 15:21:34,125] Trial 24 finished with value: 0.09042991813254031 and parameters: {'n_neighbors': 4, 'weights': 'distance', 'p': 2}. Best is trial 1 with value: 0.09042991813254031.\n",
            "[I 2025-09-30 15:21:34,239] Trial 25 finished with value: 0.09042991813254031 and parameters: {'n_neighbors': 8, 'weights': 'distance', 'p': 2}. Best is trial 1 with value: 0.09042991813254031.\n",
            "[I 2025-09-30 15:21:34,339] Trial 26 finished with value: 0.09042991813254031 and parameters: {'n_neighbors': 6, 'weights': 'distance', 'p': 2}. Best is trial 1 with value: 0.09042991813254031.\n",
            "[I 2025-09-30 15:21:34,451] Trial 27 finished with value: 0.09042991813254031 and parameters: {'n_neighbors': 9, 'weights': 'distance', 'p': 2}. Best is trial 1 with value: 0.09042991813254031.\n",
            "[I 2025-09-30 15:21:34,663] Trial 28 finished with value: 0.09042991813254031 and parameters: {'n_neighbors': 17, 'weights': 'distance', 'p': 1}. Best is trial 1 with value: 0.09042991813254031.\n",
            "[I 2025-09-30 15:21:34,819] Trial 29 finished with value: 19.46538422264692 and parameters: {'n_neighbors': 10, 'weights': 'uniform', 'p': 2}. Best is trial 1 with value: 0.09042991813254031.\n"
          ]
        },
        {
          "output_type": "stream",
          "name": "stdout",
          "text": [
            "Best KNN params: {'n_neighbors': 5, 'weights': 'distance', 'p': 2}\n"
          ]
        }
      ]
    },
    {
      "cell_type": "code",
      "source": [
        "from sklearn.metrics import mean_absolute_error, mean_squared_error, r2_score\n",
        "import numpy as np"
      ],
      "metadata": {
        "id": "UvIXo65DNz64"
      },
      "execution_count": 27,
      "outputs": []
    },
    {
      "cell_type": "code",
      "source": [
        "# Train XGBoost with best parameters\n",
        "xgb_model = xgb.XGBRegressor(**xgb_params, random_state=42)\n",
        "xgb_model.fit(X_train.values, y_train)\n",
        "xgb_preds = xgb_model.predict(X_test.values)\n",
        "\n",
        "# Evaluate\n",
        "xgb_mae = mean_absolute_error(y_test, xgb_preds)\n",
        "xgb_mse = mean_squared_error(y_test, xgb_preds)\n",
        "xgb_rmse = np.sqrt(xgb_mse)\n",
        "xgb_r2 = r2_score(y_test, xgb_preds)\n",
        "\n",
        "print(\"XGBoost Metrics:\")\n",
        "print(f\"MAE: {xgb_mae:.4f}, MSE: {xgb_mse:.4f}, RMSE: {xgb_rmse:.4f}, R2: {xgb_r2:.4f}\\n\")"
      ],
      "metadata": {
        "colab": {
          "base_uri": "https://localhost:8080/"
        },
        "id": "YoaoAgC0N3gg",
        "outputId": "5a36b373-655b-4ff6-e76c-2edf0a6eaa5b"
      },
      "execution_count": 29,
      "outputs": [
        {
          "output_type": "stream",
          "name": "stdout",
          "text": [
            "XGBoost Metrics:\n",
            "MAE: 8.7412, MSE: 283.7331, RMSE: 16.8444, R2: 0.9972\n",
            "\n"
          ]
        }
      ]
    },
    {
      "cell_type": "code",
      "source": [
        "rf_model = RandomForestRegressor(**rf_params, random_state=42)\n",
        "rf_model.fit(X_train.values, y_train)\n",
        "rf_preds = rf_model.predict(X_test.values)\n",
        "\n",
        "rf_mae = mean_absolute_error(y_test, rf_preds)\n",
        "rf_mse = mean_squared_error(y_test, rf_preds)\n",
        "rf_rmse = np.sqrt(rf_mse)\n",
        "rf_r2 = r2_score(y_test, rf_preds)\n",
        "\n",
        "print(\"Random Forest Metrics:\")\n",
        "print(f\"MAE: {rf_mae:.4f}, MSE: {rf_mse:.4f}, RMSE: {rf_rmse:.4f}, R2: {rf_r2:.4f}\\n\")"
      ],
      "metadata": {
        "colab": {
          "base_uri": "https://localhost:8080/"
        },
        "id": "jo_nEArOOSTK",
        "outputId": "89b57955-77f8-4138-b5d8-90acabf1950c"
      },
      "execution_count": 31,
      "outputs": [
        {
          "output_type": "stream",
          "name": "stdout",
          "text": [
            "Random Forest Metrics:\n",
            "MAE: 8.3264, MSE: 252.5705, RMSE: 15.8925, R2: 0.9975\n",
            "\n"
          ]
        }
      ]
    },
    {
      "cell_type": "code",
      "source": [
        "gb_model = GradientBoostingRegressor(**gb_params, random_state=42)\n",
        "gb_model.fit(X_train.values, y_train)\n",
        "gb_preds = gb_model.predict(X_test.values)\n",
        "\n",
        "gb_mae = mean_absolute_error(y_test, gb_preds)\n",
        "gb_mse = mean_squared_error(y_test, gb_preds)\n",
        "gb_rmse = np.sqrt(gb_mse)\n",
        "gb_r2 = r2_score(y_test, gb_preds)\n",
        "\n",
        "print(\"Gradient Boosting Metrics:\")\n",
        "print(f\"MAE: {gb_mae:.4f}, MSE: {gb_mse:.4f}, RMSE: {gb_rmse:.4f}, R2: {gb_r2:.4f}\\n\")"
      ],
      "metadata": {
        "colab": {
          "base_uri": "https://localhost:8080/"
        },
        "id": "N015uXo6OpMg",
        "outputId": "9b7ebb32-0e99-4f0b-fb90-a299a8bc8ba7"
      },
      "execution_count": 33,
      "outputs": [
        {
          "output_type": "stream",
          "name": "stdout",
          "text": [
            "Gradient Boosting Metrics:\n",
            "MAE: 7.7027, MSE: 264.2629, RMSE: 16.2562, R2: 0.9974\n",
            "\n"
          ]
        }
      ]
    },
    {
      "cell_type": "code",
      "source": [
        "cat_params['iterations'] = 50  # Set iterations to 50\n",
        "cat_model = CatBoostRegressor(**cat_params, random_state=42, verbose=0)\n",
        "cat_model.fit(X_train.values, y_train)\n",
        "cat_preds = cat_model.predict(X_test.values)\n",
        "\n",
        "cat_mae = mean_absolute_error(y_test, cat_preds)\n",
        "cat_mse = mean_squared_error(y_test, cat_preds)\n",
        "cat_rmse = np.sqrt(cat_mse)\n",
        "cat_r2 = r2_score(y_test, cat_preds)\n",
        "\n",
        "print(\"CatBoost Metrics:\")\n",
        "print(f\"MAE: {cat_mae:.4f}, MSE: {cat_mse:.4f}, RMSE: {cat_rmse:.4f}, R2: {cat_r2:.4f}\\n\")"
      ],
      "metadata": {
        "colab": {
          "base_uri": "https://localhost:8080/"
        },
        "id": "-EZhZwsNO9qH",
        "outputId": "a2a72ca3-f410-4bd8-b7bf-00c991beacdc"
      },
      "execution_count": 34,
      "outputs": [
        {
          "output_type": "stream",
          "name": "stdout",
          "text": [
            "CatBoost Metrics:\n",
            "MAE: 20.8844, MSE: 847.3816, RMSE: 29.1098, R2: 0.9917\n",
            "\n"
          ]
        }
      ]
    },
    {
      "cell_type": "code",
      "source": [
        "ridge_model = Ridge(**ridge_params, random_state=42)\n",
        "ridge_model.fit(X_train_scaled, y_train)\n",
        "ridge_preds = ridge_model.predict(X_test_scaled)\n",
        "\n",
        "ridge_mae = mean_absolute_error(y_test, ridge_preds)\n",
        "ridge_mse = mean_squared_error(y_test, ridge_preds)\n",
        "ridge_rmse = np.sqrt(ridge_mse)\n",
        "ridge_r2 = r2_score(y_test, ridge_preds)\n",
        "\n",
        "print(\"Ridge Regression Metrics:\")\n",
        "print(f\"MAE: {ridge_mae:.4f}, MSE: {ridge_mse:.4f}, RMSE: {ridge_rmse:.4f}, R2: {ridge_r2:.4f}\\n\")"
      ],
      "metadata": {
        "colab": {
          "base_uri": "https://localhost:8080/"
        },
        "id": "mJSnh24jPCC_",
        "outputId": "f12ffdc3-af69-4265-8d15-f96b5ae7f25c"
      },
      "execution_count": 35,
      "outputs": [
        {
          "output_type": "stream",
          "name": "stdout",
          "text": [
            "Ridge Regression Metrics:\n",
            "MAE: 34.7915, MSE: 2156.2815, RMSE: 46.4358, R2: 0.9788\n",
            "\n"
          ]
        }
      ]
    },
    {
      "cell_type": "code",
      "source": [
        "linear_model.fit(X_train_scaled, y_train)\n",
        "linear_preds = linear_model.predict(X_test_scaled)\n",
        "\n",
        "linear_mae = mean_absolute_error(y_test, linear_preds)\n",
        "linear_mse = mean_squared_error(y_test, linear_preds)\n",
        "linear_rmse = np.sqrt(linear_mse)\n",
        "linear_r2 = r2_score(y_test, linear_preds)\n",
        "\n",
        "print(\"Linear Regression Metrics:\")\n",
        "print(f\"MAE: {linear_mae:.4f}, MSE: {linear_mse:.4f}, RMSE: {linear_rmse:.4f}, R2: {linear_r2:.4f}\\n\")"
      ],
      "metadata": {
        "colab": {
          "base_uri": "https://localhost:8080/"
        },
        "id": "XrSCFL6IPExP",
        "outputId": "e9a2579d-3b8e-4e91-f8d7-843e3b32d3f2"
      },
      "execution_count": 36,
      "outputs": [
        {
          "output_type": "stream",
          "name": "stdout",
          "text": [
            "Linear Regression Metrics:\n",
            "MAE: 34.7911, MSE: 2156.2272, RMSE: 46.4352, R2: 0.9788\n",
            "\n"
          ]
        }
      ]
    },
    {
      "cell_type": "code",
      "source": [
        "knn_model = KNeighborsRegressor(**knn_params)\n",
        "knn_model.fit(X_train_scaled, y_train)\n",
        "knn_preds = knn_model.predict(X_test_scaled)\n",
        "\n",
        "knn_mae = mean_absolute_error(y_test, knn_preds)\n",
        "knn_mse = mean_squared_error(y_test, knn_preds)\n",
        "knn_rmse = np.sqrt(knn_mse)\n",
        "knn_r2 = r2_score(y_test, knn_preds)\n",
        "\n",
        "print(\"KNN Metrics:\")\n",
        "print(f\"MAE: {knn_mae:.4f}, MSE: {knn_mse:.4f}, RMSE: {knn_rmse:.4f}, R2: {knn_r2:.4f}\\n\")"
      ],
      "metadata": {
        "colab": {
          "base_uri": "https://localhost:8080/"
        },
        "id": "uX_FNz8JPJVK",
        "outputId": "e4e42daf-2264-4d02-9187-c5df51a66dd2"
      },
      "execution_count": 37,
      "outputs": [
        {
          "output_type": "stream",
          "name": "stdout",
          "text": [
            "KNN Metrics:\n",
            "MAE: 7.0442, MSE: 336.4686, RMSE: 18.3431, R2: 0.9967\n",
            "\n"
          ]
        }
      ]
    }
  ]
}